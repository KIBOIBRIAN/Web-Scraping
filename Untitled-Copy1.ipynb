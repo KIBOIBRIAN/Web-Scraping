{
 "cells": [
  {
   "cell_type": "markdown",
   "id": "766c64f1",
   "metadata": {},
   "source": [
    "# Imports"
   ]
  },
  {
   "cell_type": "code",
   "execution_count": 1,
   "id": "36c0bbcc",
   "metadata": {},
   "outputs": [],
   "source": [
    "from selenium import webdriver\n",
    "from selenium.webdriver.common.by import By\n",
    "from selenium.webdriver.support.ui import WebDriverWait\n",
    "from selenium.webdriver.support import expected_conditions as EC\n",
    "from selenium.common.exceptions import TimeoutException\n",
    "from selenium import webdriver\n",
    "from selenium.webdriver.common.desired_capabilities import DesiredCapabilities\n",
    "from selenium.webdriver.firefox.options import Options\n",
    "\n",
    "\n",
    "import re\n",
    "import warnings\n",
    "\n",
    "import pandas as pd\n",
    "import numpy as np"
   ]
  },
  {
   "cell_type": "code",
   "execution_count": 2,
   "id": "d782bede",
   "metadata": {},
   "outputs": [],
   "source": [
    "pd.set_option('display.max_rows', 500)\n",
    "pd.set_option('display.max_columns', 500)\n",
    "pd.set_option('display.width', 1000)\n",
    "\n",
    "warnings.filterwarnings(action=\"ignore\")"
   ]
  },
  {
   "cell_type": "markdown",
   "id": "0d29b101",
   "metadata": {},
   "source": [
    "# Helper Functions"
   ]
  },
  {
   "cell_type": "code",
   "execution_count": 4,
   "id": "e31414d4",
   "metadata": {
    "code_folding": [
     4,
     30,
     55
    ]
   },
   "outputs": [],
   "source": [
    "# default webdriver options\n",
    "options = Options()\n",
    "options.add_argument('--headless')\n",
    "\n",
    "def get_naics(\n",
    "    url= \"https://www.dnb.com/business-directory/company-information.outpatient_care_centers.ca.html\", \n",
    "    driver_path=\"/home/ada/Downloads/geckodriver\"\n",
    "    ):\n",
    "\n",
    "    cap = DesiredCapabilities().FIREFOX\n",
    "    cap[\"marionette\"] = False\n",
    "    driver = webdriver.Firefox(capabilities=cap, executable_path=driver_path, options=options)\n",
    "    driver.get(url)\n",
    "\n",
    "    vals = driver.find_element_by_xpath(\n",
    "        \"//div[@class='codes-title naics']/span\").get_attribute(\"innerHTML\")\n",
    "\n",
    "    vals = vals.split(\"&\")[0]\n",
    "    print(vals)\n",
    "\n",
    "    driver.close()\n",
    "\n",
    "    return vals\n",
    "\n",
    "\n",
    "\n",
    "\n",
    "def get_dnd_links(\n",
    "    url = \"https://www.dnb.com/business-directory/company-information.health_care_and_social_assistance.ca.html?page=2\",\n",
    "    driver_path = \"/home/ada/Downloads/geckodriver\"\n",
    "):\n",
    "\n",
    "\n",
    "    # company dnd links\n",
    "    cap = DesiredCapabilities().FIREFOX\n",
    "    cap[\"marionette\"] = False\n",
    "    driver = webdriver.Firefox(capabilities=cap, executable_path=driver_path, options=options)\n",
    "\n",
    "    driver.get(url)\n",
    "\n",
    "    elems = driver.find_elements_by_xpath(\"//a[@href]\")\n",
    "    links = []\n",
    "    for elem in elems:\n",
    "        links.append(elem.get_attribute(\"href\"))\n",
    "\n",
    "    driver.close()\n",
    "\n",
    "    links = [i for i in links if \"company-profiles\" in i]\n",
    "\n",
    "    return links\n",
    "\n",
    "    \n",
    "def get_company_details(\n",
    "    dnd_url = \"https://www.dnb.com/business-directory/company-profiles.alberta_health_services.129b1f80ef8deb9b06ed739f80223ccb.html\",\n",
    "    driver_path = \"/home/ada/Downloads/geckodriver\"\n",
    "):\n",
    "\n",
    "\n",
    "    cap = DesiredCapabilities().FIREFOX\n",
    "    cap[\"marionette\"] = False\n",
    "    driver = webdriver.Firefox(capabilities=cap, executable_path=driver_path, options=options)\n",
    "    driver.get(dnd_url)\n",
    "\n",
    "    # remove html tags\n",
    "    def remove_tags(text):\n",
    "        return TAG_RE.sub('', text)\n",
    "    \n",
    "    # address\n",
    "    try:\n",
    "        address = driver.find_element_by_xpath(\n",
    "            \"//div[@class='col-md-11']/span[@class='company_data_point' and @name='company_address']/span\").get_attribute(\"innerHTML\")\n",
    "        address = address.split(\"<\")[0]\n",
    "    except Exception:\n",
    "        address = \"None\"\n",
    "#     address = remove_tags(address)\n",
    "    \n",
    "\n",
    "    # telephone\n",
    "    try:\n",
    "        telephone = driver.find_element_by_xpath(\"//div[@class='col-md-11']/span[@class='company_data_point' and @name='company_phone']/span\").get_attribute(\"innerHTML\")\n",
    "    except Exception:\n",
    "        telephone = \"None\"\n",
    "        \n",
    "    # website\n",
    "    try:\n",
    "        website = driver.find_element_by_xpath(\n",
    "            \"//div[@class='col-md-11']/span[@class='company_data_point' and @name='company_website']/span\").get_attribute(\"innerHTML\")\n",
    "        website = website.split(\">\")[1].split(\"<\")[0]\n",
    "    except Exception:\n",
    "        website = \"None\"\n",
    "        \n",
    "    # employees\n",
    "    try:\n",
    "        employees = driver.find_element_by_xpath(\n",
    "            \"//div[@class='col-md-11']/span[@class='company_data_point' and @name='employees_all_site']/span\").get_attribute(\"innerHTML\")\n",
    "    except Exception:\n",
    "        employees = \"None\"\n",
    "        \n",
    "    \n",
    "    # revenue\n",
    "    try:\n",
    "        revenue = driver.find_element_by_xpath(\n",
    "            \"//div[@class='col-md-11']/span[@class='company_data_point' and @name='revenue_in_us_dollar']/span\").get_attribute(\"innerHTML\")\n",
    "    except Exception:\n",
    "        revenue = \"None\"\n",
    "        \n",
    "    # name\n",
    "    try:\n",
    "        name = driver.find_element_by_xpath(\n",
    "            \"//div[@class='margin-between-rows']/span[@class='company_data_point' and @name='company_name']/span\").get_attribute(\"innerHTML\")\n",
    "    except Exception:\n",
    "        name = \"None\"\n",
    "        \n",
    "    # description\n",
    "    try:\n",
    "        description = driver.find_element_by_xpath(\n",
    "            \"//div[@class='margin-between-rows']/span[@class='company_data_point' and @name='company_description']/span\").get_attribute(\"innerHTML\")\n",
    "    except Exception:\n",
    "        description = \"None\"\n",
    "        \n",
    "    # contact person\n",
    "    try:\n",
    "        contact_person = driver.find_element_by_xpath(\n",
    "            \"//div[@class='margin-between-rows']/span[@class='company_data_point' and @name='key_principal']/span\").get_attribute(\"innerHTML\")\n",
    "        contact_person = contact_person.split(\"&\")[0]\n",
    "    #     contact_person = remove_tags(contact_person)\n",
    "    except Exception:\n",
    "        contact_person = \"None\"\n",
    "    \n",
    "    # services\n",
    "    try:\n",
    "        services = driver.find_element_by_xpath(\n",
    "            \"//div[@class='margin-between-rows']/span[@class='company_data_point' and @name='industry_links']/span\").get_attribute(\"innerHTML\")\n",
    "        TAG_RE = re.compile(r'<[^>]+>')\n",
    "        services = remove_tags(services).replace(\"\\n\", \" \").replace(\"&nbsp;\", \"\").replace(\",\", \"\")\n",
    "    except Exception:\n",
    "        services = \"None\"\n",
    "        \n",
    "    driver.close()\n",
    "\n",
    "    df =  pd.DataFrame([name, description, services, website, employees, contact_person, address, telephone, revenue]).T\n",
    "    df.columns = [\"name\", \"description\", \"services\", \"website\", \"employees\", \"contact_person\", \"address\", \"telephone\", \"revenue\"]\n",
    "\n",
    "    return df"
   ]
  },
  {
   "cell_type": "markdown",
   "id": "b378bead",
   "metadata": {},
   "source": [
    "# Professional, Scientific, And Technical Services Industry"
   ]
  },
  {
   "cell_type": "markdown",
   "id": "e1e7348a",
   "metadata": {},
   "source": [
    "## NIACS"
   ]
  },
  {
   "cell_type": "code",
   "execution_count": 5,
   "id": "ad2a4982",
   "metadata": {},
   "outputs": [
    {
     "name": "stdout",
     "output_type": "stream",
     "text": [
      "54\n"
     ]
    }
   ],
   "source": [
    "naics = get_naics(\"https://www.dnb.com/business-directory/company-information.professional_scientific_and_technical_services.ca.html?page=1\")"
   ]
  },
  {
   "cell_type": "markdown",
   "id": "43ecea8c",
   "metadata": {},
   "source": [
    "## DND Urls"
   ]
  },
  {
   "cell_type": "code",
   "execution_count": 6,
   "id": "897b1dd2",
   "metadata": {},
   "outputs": [
    {
     "data": {
      "text/plain": [
       "5499"
      ]
     },
     "execution_count": 6,
     "metadata": {},
     "output_type": "execute_result"
    }
   ],
   "source": [
    "# diff page urls\n",
    "urls = []\n",
    "for i in range(1, 5500):\n",
    "    urls.append(f\"https://www.dnb.com/business-directory/company-information.health_care_and_social_assistance.ca.html?page={i}\")\n",
    "    \n",
    "len(urls)"
   ]
  },
  {
   "cell_type": "code",
   "execution_count": null,
   "id": "5a0368f3",
   "metadata": {},
   "outputs": [],
   "source": [
    "dnd_links = []\n",
    "for url in urls[:1000]:\n",
    "    try:\n",
    "        dnd_links.append(get_dnd_links(url))              \n",
    "    except Exception:\n",
    "        pass\n",
    "        \n",
    "len(dnd_links)"
   ]
  },
  {
   "cell_type": "code",
   "execution_count": null,
   "id": "c09f694a",
   "metadata": {},
   "outputs": [],
   "source": [
    "with open('1st50k_coy_urls.txt', 'w') as f:\n",
    "    for item in dnd_links:\n",
    "        f.write(\"%s\\n\" % item)"
   ]
  },
  {
   "cell_type": "code",
   "execution_count": null,
   "id": "e2a33661",
   "metadata": {},
   "outputs": [],
   "source": [
    "dnd_links = [item for sublist in dnd_links for item in sublist]\n",
    "len(dnd_links)"
   ]
  },
  {
   "cell_type": "markdown",
   "id": "53339531",
   "metadata": {},
   "source": [
    "# 1st 50k companies"
   ]
  },
  {
   "cell_type": "code",
   "execution_count": null,
   "id": "0ada9197",
   "metadata": {},
   "outputs": [],
   "source": [
    "dfs = []\n",
    "for company in dnd_links:\n",
    "    try:\n",
    "        dfs.append(get_company_details(company))\n",
    "        print(company.split(\".\")[3].split(\".\")[0], \"---pass\")\n",
    "    except Exception:\n",
    "        pass"
   ]
  },
  {
   "cell_type": "code",
   "execution_count": null,
   "id": "84c4a3ba",
   "metadata": {},
   "outputs": [],
   "source": []
  },
  {
   "cell_type": "code",
   "execution_count": null,
   "id": "b68a844a",
   "metadata": {},
   "outputs": [],
   "source": []
  },
  {
   "cell_type": "code",
   "execution_count": null,
   "id": "c644493e",
   "metadata": {},
   "outputs": [],
   "source": []
  },
  {
   "cell_type": "code",
   "execution_count": null,
   "id": "9b913bbe",
   "metadata": {},
   "outputs": [],
   "source": []
  },
  {
   "cell_type": "code",
   "execution_count": null,
   "id": "334f2695",
   "metadata": {},
   "outputs": [],
   "source": []
  },
  {
   "cell_type": "code",
   "execution_count": null,
   "id": "1cdce4cb",
   "metadata": {},
   "outputs": [],
   "source": []
  },
  {
   "cell_type": "code",
   "execution_count": null,
   "id": "59432a11",
   "metadata": {},
   "outputs": [],
   "source": []
  }
 ],
 "metadata": {
  "kernelspec": {
   "display_name": "Python [conda env:uvo] *",
   "language": "python",
   "name": "conda-env-uvo-py"
  },
  "language_info": {
   "codemirror_mode": {
    "name": "ipython",
    "version": 3
   },
   "file_extension": ".py",
   "mimetype": "text/x-python",
   "name": "python",
   "nbconvert_exporter": "python",
   "pygments_lexer": "ipython3",
   "version": "3.9.7"
  },
  "toc": {
   "base_numbering": 1,
   "nav_menu": {},
   "number_sections": true,
   "sideBar": true,
   "skip_h1_title": false,
   "title_cell": "Table of Contents",
   "title_sidebar": "Contents",
   "toc_cell": false,
   "toc_position": {},
   "toc_section_display": true,
   "toc_window_display": false
  }
 },
 "nbformat": 4,
 "nbformat_minor": 5
}
