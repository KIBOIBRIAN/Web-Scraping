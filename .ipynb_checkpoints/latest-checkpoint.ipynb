{
 "cells": [
  {
   "cell_type": "markdown",
   "id": "d175ae69",
   "metadata": {},
   "source": [
    "# Companies in Canada\n",
    "\n",
    "- 1 million companies lines.\n",
    "\n",
    "**Must:** \n",
    "1. ~~Business Name~~\n",
    "2. ~~Primary Contact phone~~\n",
    "3. ~~Mailing address~~\n",
    "5. ~~Mailing city ~~\n",
    "6. ~~Website~~\n",
    "7. ~~Mailing Province~~\n",
    "8. ~~Business activity~~\n",
    "9. ~~Mailing Postal~~\n",
    "8. ~~Industry~~ -- we hard code this.\n",
    "9. ~~NAICS primary~~ -- we hard code this.\n",
    "4. Fax\n",
    "11. Primary Contact name and title\n",
    "13. Primary Contact email\n",
    "14. Product /services\n",
    "\n",
    "**Optional:** \\\n",
    "15. Number of employees \\\n",
    "16. Physical address \\\n",
    "17. Physical city \\\n",
    "18. Year founded \\\n",
    "19. Physical Province \\\n",
    "20. Physical Postal \\\n",
    "21. Sales volume \\\n",
    "22. SIC primary \n",
    "\n",
    "\n",
    "**Missing**:\n",
    "- Primary Contact email\n",
    "- Primary Contact name\n",
    "- Fax\n",
    "\n",
    "- Suggestion: pull email from website."
   ]
  },
  {
   "cell_type": "code",
   "execution_count": 1,
   "id": "0832dda9",
   "metadata": {},
   "outputs": [],
   "source": [
    "import scrap as src\n",
    "\n",
    "from requests import get\n",
    "from requests.exceptions import RequestException\n",
    "from contextlib import closing\n",
    "from bs4 import BeautifulSoup, SoupStrainer\n",
    "from urllib.parse import urlsplit\n",
    "import urllib.request\n",
    "\n",
    "import pandas as pd\n",
    "import numpy as np\n",
    "\n",
    "import os, sys, httplib2, json, fire, re, string, requests\n",
    "from collections import OrderedDict, deque\n",
    "import re, requests, requests.exceptions\n",
    "\n",
    "import warnings\n",
    "warnings.filterwarnings(\"ignore\")\n",
    "\n",
    "\n",
    "pd.set_option(\"display.max.columns\", None)\n",
    "pd.set_option(\"display.max.rows\", None)"
   ]
  },
  {
   "cell_type": "markdown",
   "id": "5e5521b6",
   "metadata": {},
   "source": [
    "# Yellow Pages"
   ]
  },
  {
   "cell_type": "code",
   "execution_count": 8,
   "id": "66b51283",
   "metadata": {
    "scrolled": true
   },
   "outputs": [
    {
     "data": {
      "text/plain": [
       "['1',\n",
       " \"Bardi's Steak House\",\n",
       " '2',\n",
       " 'Astoria Shish Kebob House Inc',\n",
       " '3',\n",
       " 'Kalyvia Restaurant',\n",
       " '4',\n",
       " 'Dim Sum King',\n",
       " '5',\n",
       " 'The Big Carrot Danforth Community Market',\n",
       " '6',\n",
       " 'The Big Carrot Beach Community Market',\n",
       " \"Queen's Pasta Cafe\",\n",
       " 'By The Way',\n",
       " \"Georgy Porgy's - North York\",\n",
       " 'Hapa Izakaya',\n",
       " 'Sky Ranch Restaurant',\n",
       " \"Jz's Pizza\",\n",
       " 'D & Y Sushi',\n",
       " 'Batifole Restaurant',\n",
       " 'Soos',\n",
       " 'Playa Cabana Cantina',\n",
       " 'Kamasutra Indian Restaurant & Wine Bar',\n",
       " 'Rodeo Brazilian Steakhouse Rodizio',\n",
       " \"Christina's On The Danforth\",\n",
       " 'Factory Girl',\n",
       " 'Via Norte Restaurant',\n",
       " 'Against The Grain Urban Tavern - Harbourfront',\n",
       " 'Hurricanes Roadhouse',\n",
       " 'Bistro Grande Restaurant',\n",
       " 'La Forchetta Ristorante',\n",
       " 'Fat Pasha Inc',\n",
       " 'School Restaurant',\n",
       " 'Kingyo Izakaya',\n",
       " 'Koyoi - Downtown',\n",
       " 'Il Fornello Restaurant',\n",
       " 'Verdi Restaurant',\n",
       " 'KOS Restaurant',\n",
       " 'Midi Bistro',\n",
       " 'Böehmer',\n",
       " 'Taverna Mercatto',\n",
       " 'Tips on how to find restaurants in Toronto ON']"
      ]
     },
     "execution_count": 8,
     "metadata": {},
     "output_type": "execute_result"
    }
   ],
   "source": [
    "titles = src.get_elements(\"https://www.yellowpages.ca/search/si/1/Restaurants/Toronto+ON\", \n",
    "                       search={\"class\": \"listing__name jsMapBubbleName\"},\n",
    "                 tag='h3'\n",
    "                )\n",
    "titles"
   ]
  },
  {
   "cell_type": "code",
   "execution_count": 3,
   "id": "cd461e4b",
   "metadata": {},
   "outputs": [
    {
     "data": {
      "text/plain": [
       "['Since 1966, Exceptional Dining, Certified Angus Beef, Wine Spectator Award of Excellence, Steps from Skydome, Air Canada Centre, Convention Centre',\n",
       " 'more...',\n",
       " 'See more text',\n",
       " \"For over 40 years, this venerable 'institution of higher dining' has come to symbolize the culinary qualities the Danforth is known for: great food, great quality, and great value\",\n",
       " 'more...',\n",
       " 'See more text',\n",
       " 'CELEBRATING MORE THAN 20 YEARS OF SUCCESS SERVING AUTHENIC GREEK MEALS ON THE DANFORTH',\n",
       " 'more...',\n",
       " 'See more text',\n",
       " 'Small bite size traditional breakfast foods prepared to perfection at Dim Sum King in Toronto is what keeps the masses flocking.',\n",
       " 'The Big Carrot is a worker-owned natural food market that has been committed to local, organic, non-GMO and sustainable food systems since 1983.',\n",
       " 'more...',\n",
       " 'See more text',\n",
       " 'The Big Carrot is a worker-owned natural food market that has been committed to local, organic, non-GMO and sustainable food systems since 1983.',\n",
       " 'more...',\n",
       " 'See more text',\n",
       " \"Come taste a delicious dish at Queen's Pasta Cafe. Discover a menu featuring a variety of pizzas and pasta, priced at 11$ to 25$. Their atmosphere has been described as casual. Com...\",\n",
       " 'more...',\n",
       " 'See more text',\n",
       " 'By The Way is a much-loved neighbourhood favourite that offers contemporary Mediterranean fare with Latin flare in the heart of the Annex. A reliable, tasty standby for generous, n...',\n",
       " 'more...',\n",
       " 'See more text',\n",
       " \"Come savor a yummy dish at Georgy Porgy's - North York. They are open after-hours all week. You can get there by public transit. The neighboring location is notable for its parks a...\",\n",
       " 'more...',\n",
       " 'See more text',\n",
       " \"Voted 'Top Five Izakayas In North America' by Bon Appétit Magazine, topping 'Industry' and 'Readers Choice' Georgia Straight awards for Best Japanese in 2012 and Best Izakaya in 20...\",\n",
       " 'more...',\n",
       " 'See more text',\n",
       " 'Sky Ranch Restaurant brings Latin food and flare to Dufferin and Castlefield. While breakfast and lunch menus feature mostly Canadian-style dishes, Argentinean and Latin items are ...',\n",
       " 'more...',\n",
       " 'See more text',\n",
       " \"Jz's Pizza invites you to their restaurant. They are open nightly all week and are readily accessible by public transit and bicycle. Come visit them in a location acknowledged as l...\",\n",
       " 'more...',\n",
       " 'See more text',\n",
       " 'D & Y Sushi in the Junction offers a variety of Japanese dishes including curries, teriyakis and sushi selections. D & Y Sushi is open for lunch and dinner on weekedays and dinner ...',\n",
       " 'more...',\n",
       " 'See more text',\n",
       " 'Batifole Restaurant is an French restaurant serving simple, comfortable food without pretense in an intimate setting. For over 10 years, we have been a popular destination for resi...',\n",
       " 'more...',\n",
       " 'See more text',\n",
       " 'A new Malaysian restaurant, with its own East-Asian takes on standards like poutine, pancakes and wings, hits the Ossington strip.',\n",
       " \"Prohibition may have left The Junction dry until 2000, but Cantina is here to help the neighbourhood catch up. Our menu is filled with delicious tapas style dishes and we've redesi...\",\n",
       " 'more...',\n",
       " 'See more text',\n",
       " \"Kamasutra Written in ancient Sanskrit, (for the eyes of the ruling elite only), it's a doctrine dedicated to the celebration of love. Having studied it from every angle (purely for...\",\n",
       " 'more...',\n",
       " 'See more text',\n",
       " 'The Rodeo Brazilian Steakhouse! We offer a unique dining experience like no other. Rodeo is an all you can eat Brazilian Steakhouse where the meat never stops. Our unique menu conc...',\n",
       " 'more...',\n",
       " 'See more text',\n",
       " \"Christina's offers it's clients Authentic Greek and Mediterranean cuisine. Dine and dance to the beautiful sounds of a live Greek band (Friday and Saturday evenings). If you love d...\",\n",
       " 'more...',\n",
       " 'See more text',\n",
       " 'Factory Girl has quickly become a favourite place to eat on The Danforth. Everything on our menu is prepared with the finest ingredients by our experienced kitchen. The menu featur...',\n",
       " 'more...',\n",
       " 'See more text',\n",
       " 'Come enjoy a savory creation at Via Norte Restaurant. They are open late from Monday to Saturday and are conveniently reachable by bicycle and public transit. They are situated in ...',\n",
       " 'more...',\n",
       " 'See more text',\n",
       " \"Against the Grain is the latest concept bringing urban chic to Toronto's Harbourfront. Located in the Corus Entertainment Building right next to Sugar Beach, this Urban Tavern is p...\",\n",
       " 'more...',\n",
       " 'See more text',\n",
       " 'Hurricanes Roadhouse Restaurant invites you to their pub. They are open nightly all week and are readily reachable by bicycle. The neighboring location is memorable for its restaur...',\n",
       " 'more...',\n",
       " 'See more text',\n",
       " 'This Forest Hill original wants to provide the backdrop to your next memorable restaurant experience. Here, a casual approach to extraordinary food means kosher dining at its fines...',\n",
       " 'more...',\n",
       " 'See more text',\n",
       " 'La Forchetta equals quality Italian fare, right in the heart of Little Italy. The renowned 600+ wine list is a perfect complement to such tasty items as Goat Cheese stuffed Portabe...',\n",
       " 'more...',\n",
       " 'See more text',\n",
       " 'Fat Pasha, located on Dupont, is the third restaurant from chef/owner Anthony Rose. Focusing on Middle Eastern and Jewish cuisine, the menu features everything from schmaltz fried ...',\n",
       " 'more...',\n",
       " 'See more text',\n",
       " 'School Restaurant is legendary for our award-winning brunch, lunch and dinner, amazing patios, and great service. Our beautifully restored industrial space is cozy in winter and op...',\n",
       " 'more...',\n",
       " 'See more text',\n",
       " \"Neither as noisy nor as dimly lit as other restaurants of its ilk, this much-loved Cabbagetown izakaya is Toronto's version of its Vancouver originator, rises above the rest with i...\",\n",
       " 'more...',\n",
       " 'See more text',\n",
       " 'Koyoi Restaurant and Bar, is a moderately priced Japanese restaurant with 2 locations, one located in the Yorkville area of Downtown Toronto. Specializing in Japanese cuisine and f...',\n",
       " 'more...',\n",
       " 'See more text',\n",
       " 'A family friendly, casual resto with 40 patio seats and Brunch every day. Enjoy $12 Pizzas Monday to Thursday after 4:00pm in addition to perfect pasta, lamb, steak, salmon and an ...',\n",
       " 'more...',\n",
       " 'See more text',\n",
       " 'Located in historic downtown Bowling Green. Verdi welcomes all customers with great cuisine and hospitality. The Osmanovic Family has traveled throughout Europe, only collecting th...',\n",
       " 'more...',\n",
       " 'See more text',\n",
       " 'Kos Restaurant located at Bellevue & Nassau in Kensington Market, offers innovative, diverse and house-inspired recipes, skillfully prepared by our very own chefs. Using fresh and ...',\n",
       " 'more...',\n",
       " 'See more text',\n",
       " \"Boehmer, located on Toronto's trendy Ossington, focuses on local and seasonal Canadian food. Chef Boehmer's creations include ever-evolving dishes such as Chantecler Rouge Roasted ...\",\n",
       " 'more...',\n",
       " 'See more text',\n",
       " 'Taverna Mercatto is located on Bremner Blvd. in the Southcore (SOCO) area downtown. A fresh take on the Italian tavern, the menu includes pizzas, pastas, apps and mains.',\n",
       " 'more...',\n",
       " 'See more text']"
      ]
     },
     "execution_count": 3,
     "metadata": {},
     "output_type": "execute_result"
    }
   ],
   "source": [
    "activity = src.get_elements(\"https://www.yellowpages.ca/search/si/1/Restaurants/Toronto+ON\", \n",
    "                 tag='article',\n",
    "                 search = {\"class\": \"listing__details__teaser\"}\n",
    "                )\n",
    "activity"
   ]
  },
  {
   "cell_type": "code",
   "execution_count": 4,
   "id": "54369c07",
   "metadata": {
    "code_folding": [
     0
    ],
    "scrolled": true
   },
   "outputs": [
    {
     "data": {
      "text/plain": [
       "['/gourl/079b5b9f8c61d6de97e5fd1f0e5b66b35adc1c27?redirect=http%3A%2F%2Fwww.bardis.com%2F',\n",
       " '/gourl/503cbea0b629dc585b032529db295f94212dcab8?redirect=http%3A%2F%2Fwww.astoriashishkebobhouse.com%2F',\n",
       " '/gourl/7b2a1b15fa536ade8d1445861ed75fd509e1f8bd?redirect=http%3A%2F%2Fwww.kalyvia.com%2F',\n",
       " '/gourl/a56be2c9b3173ca83e48e8e6aed0ec0b2f1fcd87?redirect=https%3A%2F%2Fthebigcarrot.ca%2F',\n",
       " '/gourl/a56be2c9b3173ca83e48e8e6aed0ec0b2f1fcd87?redirect=https%3A%2F%2Fthebigcarrot.ca%2F',\n",
       " '/gourl/77cee88f4182d4a74af37c80332992d224d8a902?redirect=http%3A%2F%2Fwww.dimsumkingchinese.ca%2F',\n",
       " '/gourl/a56be2c9b3173ca83e48e8e6aed0ec0b2f1fcd87?redirect=https%3A%2F%2Fthebigcarrot.ca%2F',\n",
       " '/gourl/a56be2c9b3173ca83e48e8e6aed0ec0b2f1fcd87?redirect=https%3A%2F%2Fthebigcarrot.ca%2F',\n",
       " '/gourl/158580d35ed953d0dc3f75bd3bfafd54bd535ba8?redirect=http%3A%2F%2Fwww.queenspasta.com%2F',\n",
       " '/gourl/7424e7ee0aac88c9ab5e12d3f4f8711ec44cd78d?redirect=http%3A%2F%2Fwww.bytheway.to%2F',\n",
       " '/gourl/7b2d6f8d28799619d80bcf930fb818d9afbdc176?redirect=http%3A%2F%2Fhapaizakaya.com%2F',\n",
       " '/gourl/9f81a32b4dc281ccc121e086b4ae3d8d93df1d7f?redirect=http%3A%2F%2Fwww.skyranchrestaurant.com%2F',\n",
       " '/gourl/961c71504674bc814367a1681b5a2d4dfc312bcb?redirect=http%3A%2F%2Fwww.batifole.ca%2F',\n",
       " '/gourl/e5bec0dbf6d648682c163ffbe3a8b87dbc1d5bcc?redirect=http%3A%2F%2Fwww.soostoronto.com%2F',\n",
       " '/gourl/c8c164a5068ee02e606b84c00a100de06ed4b168?redirect=http%3A%2F%2Fwww.playacabana.ca%2Fcantina',\n",
       " '/gourl/6c7d6761e939da6f51f41db49629cb32942689ee?redirect=http%3A%2F%2Frodeobraziliansteakhouse.com%2F',\n",
       " '/gourl/3ebf67c58309e7d61672bdc3ad75b4866c947e99?redirect=http%3A%2F%2Fwww.christinas.ca%2F',\n",
       " '/gourl/663679e444eb804a692e3f95bf91583f9712147f?redirect=http%3A%2F%2Fwww.facebook.com%2Fvianorterestaurant',\n",
       " '/gourl/2affdbf681e55e94eaf5ccb39bd77fd1fdeb9566?redirect=http%3A%2F%2Fwww.atgurbantavern.ca%2F',\n",
       " '/gourl/382ff3aac8c70fbf744188e1437bf732aee279c2?redirect=http%3A%2F%2Fhurricanestoronto.com%2F',\n",
       " '/gourl/24b9710fb1df8ae19ca7b1e5abfdd8c00bb34c5f?redirect=http%3A%2F%2Fwww.laforchetta.ca%2F',\n",
       " '/gourl/bee15ac1306721efbb7c1801ad03bd22c6ca1bd2?redirect=http%3A%2F%2Fwww.fatpasha.com%2F',\n",
       " '/gourl/86c8eb2346abfb255c6e88d55bab043e14b47c62?redirect=http%3A%2F%2Fwww.schooltoronto.com%2F',\n",
       " '/gourl/d05d344e234112fb6be5fbe2308890e57123cfc2?redirect=http%3A%2F%2Fwww.koyoi.ca%2F',\n",
       " '/gourl/94e87b54990e742402da5bf89281ea8c0cfa0e1d?redirect=http%3A%2F%2Fwww.ilfornello.com%2F',\n",
       " '/gourl/d09c30af10cbcff1ecd0247365d143d94a7b4996?redirect=http%3A%2F%2Fwww.kosrestaurant.ca%2F',\n",
       " '/gourl/4ee518f29e26e1b3affb8cb5642f157ec7ffd92f?redirect=http%3A%2F%2Fwww.midibistro.ca%2F',\n",
       " '/gourl/609fadb30c03edbe3ffab4c8bbcf3d16688d378e?redirect=http%3A%2F%2Fwww.boehmer.ca%2F',\n",
       " '/gourl/5210e1129696781d5c9a43b3d2e7f675c7b046ba?redirect=http%3A%2F%2Ftaverna.mercatto.ca%2F']"
      ]
     },
     "execution_count": 4,
     "metadata": {},
     "output_type": "execute_result"
    }
   ],
   "source": [
    "def get_link(url):\n",
    "    parser = 'html.parser'  # or 'lxml' (preferred) or 'html5lib', if installed\n",
    "    resp = urllib.request.urlopen(url)\n",
    "    soup = BeautifulSoup(resp, parser, from_encoding=resp.info().get_param('charset'))\n",
    "\n",
    "    links = []\n",
    "    for link in soup.find_all('a', href=True):\n",
    "        if \"/gourl/\" in link['href']:\n",
    "            links.append(link['href'])\n",
    "            \n",
    "    return links\n",
    "\n",
    "website = get_link(\"https://www.yellowpages.ca/search/si/1/Restaurants/Toronto+ON\")\n",
    "website"
   ]
  },
  {
   "cell_type": "code",
   "execution_count": 5,
   "id": "95c707d1",
   "metadata": {
    "code_folding": [
     0
    ],
    "scrolled": true
   },
   "outputs": [
    {
     "data": {
      "text/plain": [
       "[[<span class=\"jsMapBubbleAddress\" itemprop=\"streetAddress\">56 York St</span>,\n",
       "  <span class=\"jsMapBubbleAddress\" itemprop=\"addressLocality\">Toronto</span>,\n",
       "  <span class=\"jsMapBubbleAddress\" itemprop=\"addressRegion\">ON</span>,\n",
       "  <span class=\"jsMapBubbleAddress\" itemprop=\"postalCode\">M5J 1S8</span>],\n",
       " [<span class=\"jsMapBubbleAddress\" itemprop=\"streetAddress\">390 Danforth Ave</span>,\n",
       "  <span class=\"jsMapBubbleAddress\" itemprop=\"addressLocality\">Toronto</span>,\n",
       "  <span class=\"jsMapBubbleAddress\" itemprop=\"addressRegion\">ON</span>,\n",
       "  <span class=\"jsMapBubbleAddress\" itemprop=\"postalCode\">M4K 1P3</span>],\n",
       " [<span class=\"jsMapBubbleAddress\" itemprop=\"streetAddress\">420 Danforth Ave</span>,\n",
       "  <span class=\"jsMapBubbleAddress\" itemprop=\"addressLocality\">Toronto</span>,\n",
       "  <span class=\"jsMapBubbleAddress\" itemprop=\"addressRegion\">ON</span>,\n",
       "  <span class=\"jsMapBubbleAddress\" itemprop=\"postalCode\">M4K 1P3</span>],\n",
       " [<span class=\"jsMapBubbleAddress\" itemprop=\"streetAddress\">125 Southwood Dr</span>,\n",
       "  <span class=\"jsMapBubbleAddress\" itemprop=\"addressLocality\">Toronto</span>,\n",
       "  <span class=\"jsMapBubbleAddress\" itemprop=\"addressRegion\">ON</span>,\n",
       "  <span class=\"jsMapBubbleAddress\" itemprop=\"postalCode\">M4E 0B8</span>],\n",
       " [<span class=\"jsMapBubbleAddress\" itemprop=\"streetAddress\">348 Danforth Ave</span>,\n",
       "  <span class=\"jsMapBubbleAddress\" itemprop=\"addressLocality\">Toronto</span>,\n",
       "  <span class=\"jsMapBubbleAddress\" itemprop=\"addressRegion\">ON</span>,\n",
       "  <span class=\"jsMapBubbleAddress\" itemprop=\"postalCode\">M4K 1N8</span>],\n",
       " [<span class=\"jsMapBubbleAddress\" itemprop=\"streetAddress\">421 Dundas St W</span>,\n",
       "  <span class=\"jsMapBubbleAddress\" itemprop=\"addressLocality\">Toronto</span>,\n",
       "  <span class=\"jsMapBubbleAddress\" itemprop=\"addressRegion\">ON</span>,\n",
       "  <span class=\"jsMapBubbleAddress\" itemprop=\"postalCode\">M5T 2W4</span>],\n",
       " [<span class=\"jsMapBubbleAddress\" itemprop=\"streetAddress\">2263 Bloor St W</span>,\n",
       "  <span class=\"jsMapBubbleAddress\" itemprop=\"addressLocality\">Toronto</span>,\n",
       "  <span class=\"jsMapBubbleAddress\" itemprop=\"addressRegion\">ON</span>,\n",
       "  <span class=\"jsMapBubbleAddress\" itemprop=\"postalCode\">M6S 1N8</span>],\n",
       " [<span class=\"jsMapBubbleAddress\" itemprop=\"streetAddress\">400 Bloor St W</span>,\n",
       "  <span class=\"jsMapBubbleAddress\" itemprop=\"addressLocality\">Toronto</span>,\n",
       "  <span class=\"jsMapBubbleAddress\" itemprop=\"addressRegion\">ON</span>,\n",
       "  <span class=\"jsMapBubbleAddress\" itemprop=\"postalCode\">M5S 1X5</span>],\n",
       " [<span class=\"jsMapBubbleAddress\" itemprop=\"streetAddress\">1448 Lawrence Ave E</span>,\n",
       "  <span class=\"jsMapBubbleAddress\" itemprop=\"addressLocality\">North York</span>,\n",
       "  <span class=\"jsMapBubbleAddress\" itemprop=\"addressRegion\">ON</span>,\n",
       "  <span class=\"jsMapBubbleAddress\" itemprop=\"postalCode\">M4A 2S8</span>],\n",
       " [<span class=\"jsMapBubbleAddress\" itemprop=\"streetAddress\">602 College St</span>,\n",
       "  <span class=\"jsMapBubbleAddress\" itemprop=\"addressLocality\">Toronto</span>,\n",
       "  <span class=\"jsMapBubbleAddress\" itemprop=\"addressRegion\">ON</span>,\n",
       "  <span class=\"jsMapBubbleAddress\" itemprop=\"postalCode\">M6G 1B4</span>],\n",
       " [<span class=\"jsMapBubbleAddress\" itemprop=\"streetAddress\">2473 Dufferin St</span>,\n",
       "  <span class=\"jsMapBubbleAddress\" itemprop=\"addressLocality\">York</span>,\n",
       "  <span class=\"jsMapBubbleAddress\" itemprop=\"addressRegion\">ON</span>,\n",
       "  <span class=\"jsMapBubbleAddress\" itemprop=\"postalCode\">M6B 3P9</span>],\n",
       " [<span class=\"jsMapBubbleAddress\" itemprop=\"streetAddress\">232 Wellington St W</span>,\n",
       "  <span class=\"jsMapBubbleAddress\" itemprop=\"addressLocality\">Toronto</span>,\n",
       "  <span class=\"jsMapBubbleAddress\" itemprop=\"addressRegion\">ON</span>,\n",
       "  <span class=\"jsMapBubbleAddress\" itemprop=\"postalCode\">M5V 3W1</span>],\n",
       " [<span class=\"jsMapBubbleAddress\" itemprop=\"streetAddress\">2861 Dundas St W</span>,\n",
       "  <span class=\"jsMapBubbleAddress\" itemprop=\"addressLocality\">Toronto</span>,\n",
       "  <span class=\"jsMapBubbleAddress\" itemprop=\"addressRegion\">ON</span>,\n",
       "  <span class=\"jsMapBubbleAddress\" itemprop=\"postalCode\">M6P 1Y9</span>],\n",
       " [<span class=\"jsMapBubbleAddress\" itemprop=\"streetAddress\">744 Gerrard St E</span>,\n",
       "  <span class=\"jsMapBubbleAddress\" itemprop=\"addressLocality\">Toronto</span>,\n",
       "  <span class=\"jsMapBubbleAddress\" itemprop=\"addressRegion\">ON</span>,\n",
       "  <span class=\"jsMapBubbleAddress\" itemprop=\"postalCode\">M4M 1Y3</span>],\n",
       " [<span class=\"jsMapBubbleAddress\" itemprop=\"streetAddress\">94 Ossington Ave</span>,\n",
       "  <span class=\"jsMapBubbleAddress\" itemprop=\"addressLocality\">Toronto</span>,\n",
       "  <span class=\"jsMapBubbleAddress\" itemprop=\"addressRegion\">ON</span>,\n",
       "  <span class=\"jsMapBubbleAddress\" itemprop=\"postalCode\">M6J 2Z4</span>],\n",
       " [<span class=\"jsMapBubbleAddress\" itemprop=\"streetAddress\">2883 Dundas St W</span>,\n",
       "  <span class=\"jsMapBubbleAddress\" itemprop=\"addressLocality\">Toronto</span>,\n",
       "  <span class=\"jsMapBubbleAddress\" itemprop=\"addressRegion\">ON</span>,\n",
       "  <span class=\"jsMapBubbleAddress\" itemprop=\"postalCode\">M6P 1Y9</span>],\n",
       " [<span class=\"jsMapBubbleAddress\" itemprop=\"streetAddress\">1522 Bayview Ave</span>,\n",
       "  <span class=\"jsMapBubbleAddress\" itemprop=\"addressLocality\">Toronto</span>,\n",
       "  <span class=\"jsMapBubbleAddress\" itemprop=\"addressRegion\">ON</span>,\n",
       "  <span class=\"jsMapBubbleAddress\" itemprop=\"postalCode\">M4G 3B4</span>],\n",
       " [<span class=\"jsMapBubbleAddress\" itemprop=\"streetAddress\">95 Danforth Ave</span>,\n",
       "  <span class=\"jsMapBubbleAddress\" itemprop=\"addressLocality\">Toronto</span>,\n",
       "  <span class=\"jsMapBubbleAddress\" itemprop=\"addressRegion\">ON</span>,\n",
       "  <span class=\"jsMapBubbleAddress\" itemprop=\"postalCode\">M4K 1N2</span>],\n",
       " [<span class=\"jsMapBubbleAddress\" itemprop=\"streetAddress\">492 Danforth Ave</span>,\n",
       "  <span class=\"jsMapBubbleAddress\" itemprop=\"addressLocality\">Toronto</span>,\n",
       "  <span class=\"jsMapBubbleAddress\" itemprop=\"addressRegion\">ON</span>,\n",
       "  <span class=\"jsMapBubbleAddress\" itemprop=\"postalCode\">M4K 1P6</span>],\n",
       " [<span class=\"jsMapBubbleAddress\" itemprop=\"streetAddress\">193, Danforth Ave</span>,\n",
       "  <span class=\"jsMapBubbleAddress\" itemprop=\"addressLocality\">Toronto</span>,\n",
       "  <span class=\"jsMapBubbleAddress\" itemprop=\"addressRegion\">ON</span>,\n",
       "  <span class=\"jsMapBubbleAddress\" itemprop=\"postalCode\">M4K 1N2</span>],\n",
       " [<span class=\"jsMapBubbleAddress\" itemprop=\"streetAddress\">938 College St</span>,\n",
       "  <span class=\"jsMapBubbleAddress\" itemprop=\"addressLocality\">Toronto</span>,\n",
       "  <span class=\"jsMapBubbleAddress\" itemprop=\"addressRegion\">ON</span>,\n",
       "  <span class=\"jsMapBubbleAddress\" itemprop=\"postalCode\">M6H 1A4</span>],\n",
       " [<span class=\"jsMapBubbleAddress\" itemprop=\"streetAddress\">25 Dockside Dr</span>,\n",
       "  <span class=\"jsMapBubbleAddress\" itemprop=\"addressLocality\">Toronto</span>,\n",
       "  <span class=\"jsMapBubbleAddress\" itemprop=\"addressRegion\">ON</span>,\n",
       "  <span class=\"jsMapBubbleAddress\" itemprop=\"postalCode\">M5A 0B5</span>],\n",
       " [<span class=\"jsMapBubbleAddress\" itemprop=\"streetAddress\">963 Bloor St W</span>,\n",
       "  <span class=\"jsMapBubbleAddress\" itemprop=\"addressLocality\">Toronto</span>,\n",
       "  <span class=\"jsMapBubbleAddress\" itemprop=\"addressRegion\">ON</span>,\n",
       "  <span class=\"jsMapBubbleAddress\" itemprop=\"postalCode\">M6H 1L7</span>],\n",
       " [<span class=\"jsMapBubbleAddress\" itemprop=\"streetAddress\">1000 Eglinton Ave W</span>,\n",
       "  <span class=\"jsMapBubbleAddress\" itemprop=\"addressLocality\">Toronto</span>,\n",
       "  <span class=\"jsMapBubbleAddress\" itemprop=\"addressRegion\">ON</span>,\n",
       "  <span class=\"jsMapBubbleAddress\" itemprop=\"postalCode\">M6C 2C5</span>],\n",
       " [<span class=\"jsMapBubbleAddress\" itemprop=\"streetAddress\">613 College St</span>,\n",
       "  <span class=\"jsMapBubbleAddress\" itemprop=\"addressLocality\">Toronto</span>,\n",
       "  <span class=\"jsMapBubbleAddress\" itemprop=\"addressRegion\">ON</span>,\n",
       "  <span class=\"jsMapBubbleAddress\" itemprop=\"postalCode\">M6G 1B5</span>],\n",
       " [<span class=\"jsMapBubbleAddress\" itemprop=\"streetAddress\">414 Dupont St</span>,\n",
       "  <span class=\"jsMapBubbleAddress\" itemprop=\"addressLocality\">Toronto</span>,\n",
       "  <span class=\"jsMapBubbleAddress\" itemprop=\"addressRegion\">ON</span>,\n",
       "  <span class=\"jsMapBubbleAddress\" itemprop=\"postalCode\">M5R 1V9</span>],\n",
       " [<span class=\"jsMapBubbleAddress\" itemprop=\"streetAddress\">70 Fraser Ave</span>,\n",
       "  <span class=\"jsMapBubbleAddress\" itemprop=\"addressLocality\">Toronto</span>,\n",
       "  <span class=\"jsMapBubbleAddress\" itemprop=\"addressRegion\">ON</span>,\n",
       "  <span class=\"jsMapBubbleAddress\" itemprop=\"postalCode\">M6K 3E1</span>],\n",
       " [<span class=\"jsMapBubbleAddress\" itemprop=\"streetAddress\">51 Winchester St</span>,\n",
       "  <span class=\"jsMapBubbleAddress\" itemprop=\"addressLocality\">Toronto</span>,\n",
       "  <span class=\"jsMapBubbleAddress\" itemprop=\"addressRegion\">ON</span>,\n",
       "  <span class=\"jsMapBubbleAddress\" itemprop=\"postalCode\">M4X 1A8</span>],\n",
       " [<span class=\"jsMapBubbleAddress\" itemprop=\"streetAddress\">2 Irwin Ave</span>,\n",
       "  <span class=\"jsMapBubbleAddress\" itemprop=\"addressLocality\">Toronto</span>,\n",
       "  <span class=\"jsMapBubbleAddress\" itemprop=\"addressRegion\">ON</span>,\n",
       "  <span class=\"jsMapBubbleAddress\" itemprop=\"postalCode\">M4Y 1K9</span>],\n",
       " [<span class=\"jsMapBubbleAddress\" itemprop=\"streetAddress\">576 Danforth Ave</span>,\n",
       "  <span class=\"jsMapBubbleAddress\" itemprop=\"addressLocality\">Toronto</span>,\n",
       "  <span class=\"jsMapBubbleAddress\" itemprop=\"addressRegion\">ON</span>,\n",
       "  <span class=\"jsMapBubbleAddress\" itemprop=\"postalCode\">M4K 1R1</span>],\n",
       " [<span class=\"jsMapBubbleAddress\" itemprop=\"streetAddress\">1566 Bayview Ave</span>,\n",
       "  <span class=\"jsMapBubbleAddress\" itemprop=\"addressLocality\">Toronto</span>,\n",
       "  <span class=\"jsMapBubbleAddress\" itemprop=\"addressRegion\">ON</span>,\n",
       "  <span class=\"jsMapBubbleAddress\" itemprop=\"postalCode\">M4G 3B7</span>],\n",
       " [<span class=\"jsMapBubbleAddress\" itemprop=\"streetAddress\">61 Bellevue Ave</span>,\n",
       "  <span class=\"jsMapBubbleAddress\" itemprop=\"addressLocality\">Toronto</span>,\n",
       "  <span class=\"jsMapBubbleAddress\" itemprop=\"addressRegion\">ON</span>,\n",
       "  <span class=\"jsMapBubbleAddress\" itemprop=\"postalCode\">M5T 2N5</span>],\n",
       " [<span class=\"jsMapBubbleAddress\" itemprop=\"streetAddress\">A, 168 McCaul St</span>,\n",
       "  <span class=\"jsMapBubbleAddress\" itemprop=\"addressLocality\">Toronto</span>,\n",
       "  <span class=\"jsMapBubbleAddress\" itemprop=\"addressRegion\">ON</span>,\n",
       "  <span class=\"jsMapBubbleAddress\" itemprop=\"postalCode\">M5T 1W4</span>],\n",
       " [<span class=\"jsMapBubbleAddress\" itemprop=\"streetAddress\">93 Ossington Ave</span>,\n",
       "  <span class=\"jsMapBubbleAddress\" itemprop=\"addressLocality\">Toronto</span>,\n",
       "  <span class=\"jsMapBubbleAddress\" itemprop=\"addressRegion\">ON</span>,\n",
       "  <span class=\"jsMapBubbleAddress\" itemprop=\"postalCode\">M6J 2Z2</span>],\n",
       " [<span class=\"jsMapBubbleAddress\" itemprop=\"streetAddress\">120 Bremner</span>,\n",
       "  <span class=\"jsMapBubbleAddress\" itemprop=\"addressLocality\">Toronto</span>,\n",
       "  <span class=\"jsMapBubbleAddress\" itemprop=\"addressRegion\">ON</span>,\n",
       "  <span class=\"jsMapBubbleAddress\" itemprop=\"postalCode\">M5J 3A6</span>]]"
      ]
     },
     "execution_count": 5,
     "metadata": {},
     "output_type": "execute_result"
    }
   ],
   "source": [
    "def address_in4s(url):\n",
    "    \n",
    "    parser = 'html.parser'  # or 'lxml' (preferred) or 'html5lib', if installed\n",
    "    resp = urllib.request.urlopen(url)\n",
    "    soup = BeautifulSoup(resp, parser, from_encoding=resp.info().get_param('charset'))\n",
    "    addresses = soup.find_all(\"span\", class_=\"jsMapBubbleAddress\")\n",
    "    \n",
    "    addresses = [addresses[i: i + 4] for i in range(0, len(addresses), 4)]\n",
    "    \n",
    "    return addresses\n",
    "addresses = address_in4s(\"https://www.yellowpages.ca/search/si/1/Restaurants/Toronto+ON\")\n",
    "addresses"
   ]
  },
  {
   "cell_type": "code",
   "execution_count": 6,
   "id": "e258362a",
   "metadata": {
    "code_folding": [
     0
    ],
    "scrolled": true
   },
   "outputs": [
    {
     "data": {
      "text/plain": [
       "['647-849-3080',\n",
       " '647-846-7210',\n",
       " '416-463-3333',\n",
       " '416-466-2129',\n",
       " '416-466-2129',\n",
       " '647-360-4006',\n",
       " '416-766-0993',\n",
       " '416-967-4295',\n",
       " '416-285-8980',\n",
       " '647-748-4272',\n",
       " '416-787-0491',\n",
       " '647-347-2727',\n",
       " '647-350-2996',\n",
       " '416-462-9965',\n",
       " '416-901-7667',\n",
       " '647-352-7767',\n",
       " '416-489-4899',\n",
       " '416-465-0969',\n",
       " '416-463-4418',\n",
       " '647-352-2799',\n",
       " '647-348-1116',\n",
       " '647-344-1562',\n",
       " '416-531-7818',\n",
       " '416-782-3302',\n",
       " '416-534-3100',\n",
       " '647-340-6142',\n",
       " '416-588-0005',\n",
       " '647-748-2121',\n",
       " '647-351-5128',\n",
       " '416-466-2931',\n",
       " '416-440-0452',\n",
       " '416-597-6912',\n",
       " '416-977-2929',\n",
       " '416-531-3800',\n",
       " '416-368-9000']"
      ]
     },
     "execution_count": 6,
     "metadata": {},
     "output_type": "execute_result"
    }
   ],
   "source": [
    "def get_phone(url):\n",
    "    source_code = requests.get(url)\n",
    "    plain_text = source_code.content\n",
    "    soup = BeautifulSoup(plain_text, \"lxml\")\n",
    "    links = soup.findAll('a', {'class': 'mlr__item__cta jsMlrMenu'})\n",
    "    \n",
    "    phones = []\n",
    "    for link in links:\n",
    "        title = link.get('data-phone')\n",
    "        phones.append(title)\n",
    "    \n",
    "    return phones\n",
    "\n",
    "phones = get_phone(\"https://www.yellowpages.ca/search/si/1/Restaurants/Toronto+ON\")\n",
    "phones"
   ]
  },
  {
   "cell_type": "code",
   "execution_count": null,
   "id": "95ab0827",
   "metadata": {},
   "outputs": [],
   "source": []
  },
  {
   "cell_type": "code",
   "execution_count": 33,
   "id": "565b911e",
   "metadata": {},
   "outputs": [],
   "source": [
    "def get_email(url):\n",
    "\n",
    "    unprocessed_urls = deque([url])\n",
    "\n",
    "    processed_urls = set()\n",
    "\n",
    "    emails = set()\n",
    "    url = url\n",
    "\n",
    "    print(\"Crawling URL %s\" % url)\n",
    "    response = requests.get(url)\n",
    "\n",
    "    new_emails = set(re.findall(r\"[a-z0-9\\.\\-+_]+@[a-z0-9\\.\\-+_]+\\.[a-z]+\", response.text, re.I))\n",
    "    new_emails = [mail for mail in new_emails if \".png\" not in mail]\n",
    "    new_emails = [mail for mail in new_emails if \".jpg\" not in mail]\n",
    "    new_emails = [i for i in new_emails if len(i) < 30]\n",
    "    \n",
    "    emails.update(new_emails)\n",
    "    \n",
    "    return emails"
   ]
  },
  {
   "cell_type": "code",
   "execution_count": 34,
   "id": "09e023a7",
   "metadata": {},
   "outputs": [
    {
     "name": "stdout",
     "output_type": "stream",
     "text": [
      "Crawling URL https://www.bytheway.to/\n"
     ]
    },
    {
     "data": {
      "text/plain": [
       "{'bythewayto@gmail.com', 'info@bytheway.com'}"
      ]
     },
     "execution_count": 34,
     "metadata": {},
     "output_type": "execute_result"
    }
   ],
   "source": [
    "get_email(\"https://www.bytheway.to/\")"
   ]
  },
  {
   "cell_type": "code",
   "execution_count": null,
   "id": "725a6bff",
   "metadata": {},
   "outputs": [],
   "source": []
  },
  {
   "cell_type": "code",
   "execution_count": null,
   "id": "78c1e35c",
   "metadata": {},
   "outputs": [],
   "source": []
  },
  {
   "cell_type": "markdown",
   "id": "024796d0",
   "metadata": {},
   "source": [
    "### products & services"
   ]
  },
  {
   "cell_type": "code",
   "execution_count": 25,
   "id": "78ed9c74",
   "metadata": {
    "scrolled": true
   },
   "outputs": [],
   "source": [
    "# parser = 'html.parser'  # or 'lxml' (preferred) or 'html5lib', if installed\n",
    "# resp = urllib.request.urlopen(\"https://www.yellowpages.ca/search/si/1/Restaurants/Toronto+ON\")\n",
    "# soup = BeautifulSoup(resp, parser, from_encoding=resp.info().get_param('charset'))\n",
    "\n",
    "# links = []\n",
    "# for link in soup.find_all('a', href=True):\n",
    "#     if \"bus/\" in link['href']:\n",
    "#         if \"#\" not in link[\"href\"]:\n",
    "#             if \"Review\" not in link[\"href\"]:\n",
    "#                 links.append(link['href'])\n",
    "\n",
    "\n",
    "\n",
    "# links = list(OrderedDict.fromkeys(links))\n",
    "# links"
   ]
  },
  {
   "cell_type": "code",
   "execution_count": 24,
   "id": "ed9382fe",
   "metadata": {},
   "outputs": [],
   "source": [
    "# src.get_elements(\"https://www.yellowpages.ca\" + \n",
    "#                  \"/bus/Ontario/Toronto/Bardi-s-Steak-House/156059.html?what=Restaurants&where=Toronto+ON&useContext=true\", \n",
    "#                  tag='li',\n",
    "# #                  search = {\"class\": \"listing__name--link listing__link jsListingName\"}\n",
    "#                 )"
   ]
  },
  {
   "cell_type": "code",
   "execution_count": null,
   "id": "c35d2886",
   "metadata": {},
   "outputs": [],
   "source": []
  },
  {
   "cell_type": "code",
   "execution_count": null,
   "id": "880c43a6",
   "metadata": {},
   "outputs": [],
   "source": []
  },
  {
   "cell_type": "code",
   "execution_count": null,
   "id": "0fb26c2e",
   "metadata": {},
   "outputs": [],
   "source": []
  },
  {
   "cell_type": "code",
   "execution_count": null,
   "id": "92334982",
   "metadata": {},
   "outputs": [],
   "source": [
    "parser = 'html.parser'  # or 'lxml' (preferred) or 'html5lib', if installed\n",
    "resp = urllib.request.urlopen(\"https://www.yellowpages.ca/search/si/1/Restaurants/Toronto+ON\")\n",
    "soup = BeautifulSoup(resp, parser, from_encoding=resp.info().get_param('charset'))\n",
    "\n",
    "# soup.find(id=\"text\")\n",
    "soup.findAll(\"div\", {\"class\": \"#text\"})"
   ]
  },
  {
   "cell_type": "code",
   "execution_count": null,
   "id": "fff00868",
   "metadata": {
    "scrolled": true
   },
   "outputs": [],
   "source": [
    "src.get_elements(\"https://www.yellowpages.ca/search/si/1/Restaurants/Toronto+ON\", \n",
    "                 tag='div',\n",
    "                 search = {\"class\": \"listing__captext\"}\n",
    "                )"
   ]
  },
  {
   "cell_type": "code",
   "execution_count": null,
   "id": "1470f12d",
   "metadata": {},
   "outputs": [],
   "source": []
  },
  {
   "cell_type": "code",
   "execution_count": null,
   "id": "7d74ea1f",
   "metadata": {},
   "outputs": [],
   "source": []
  },
  {
   "cell_type": "markdown",
   "id": "9382172d",
   "metadata": {},
   "source": [
    "# email, fax, contact person"
   ]
  },
  {
   "cell_type": "code",
   "execution_count": null,
   "id": "dd2c27e8",
   "metadata": {},
   "outputs": [],
   "source": []
  },
  {
   "cell_type": "code",
   "execution_count": null,
   "id": "262c49f0",
   "metadata": {},
   "outputs": [],
   "source": []
  },
  {
   "cell_type": "code",
   "execution_count": null,
   "id": "633c3aee",
   "metadata": {},
   "outputs": [],
   "source": []
  }
 ],
 "metadata": {
  "kernelspec": {
   "display_name": "Python 3",
   "language": "python",
   "name": "python3"
  },
  "language_info": {
   "codemirror_mode": {
    "name": "ipython",
    "version": 3
   },
   "file_extension": ".py",
   "mimetype": "text/x-python",
   "name": "python",
   "nbconvert_exporter": "python",
   "pygments_lexer": "ipython3",
   "version": "3.8.8"
  },
  "toc": {
   "base_numbering": 1,
   "nav_menu": {},
   "number_sections": true,
   "sideBar": true,
   "skip_h1_title": false,
   "title_cell": "Table of Contents",
   "title_sidebar": "Contents",
   "toc_cell": false,
   "toc_position": {},
   "toc_section_display": true,
   "toc_window_display": true
  }
 },
 "nbformat": 4,
 "nbformat_minor": 5
}
