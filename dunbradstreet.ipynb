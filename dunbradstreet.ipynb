{
 "cells": [
  {
   "cell_type": "markdown",
   "id": "86cd4e8d",
   "metadata": {},
   "source": [
    "# Imports"
   ]
  },
  {
   "cell_type": "code",
   "execution_count": 11,
   "id": "ed3d7ee6",
   "metadata": {},
   "outputs": [],
   "source": [
    "from selenium import webdriver\n",
    "from selenium.webdriver.common.by import By\n",
    "from selenium.webdriver.support.ui import WebDriverWait\n",
    "from selenium.webdriver.support import expected_conditions as EC\n",
    "from selenium.common.exceptions import TimeoutException\n",
    "from selenium import webdriver\n",
    "from selenium.webdriver.common.desired_capabilities import DesiredCapabilities\n",
    "import re"
   ]
  },
  {
   "cell_type": "code",
   "execution_count": null,
   "id": "87fbdee8",
   "metadata": {},
   "outputs": [],
   "source": [
    "def get_naics(url):\n",
    "    pass\n",
    "\n",
    "def get_links(url):\n",
    "    pass\n",
    "\n",
    "    "
   ]
  },
  {
   "cell_type": "markdown",
   "id": "d36680a8",
   "metadata": {},
   "source": [
    "# Trials"
   ]
  },
  {
   "cell_type": "code",
   "execution_count": 148,
   "id": "6fb4c631",
   "metadata": {},
   "outputs": [
    {
     "name": "stdout",
     "output_type": "stream",
     "text": [
      "6214\n"
     ]
    }
   ],
   "source": [
    "# company specific dnd details: naics\n",
    "\n",
    "cap = DesiredCapabilities().FIREFOX\n",
    "cap[\"marionette\"] = False\n",
    "driver = webdriver.Firefox(capabilities=cap, executable_path=\"/home/ada/Downloads/geckodriver\")\n",
    "\n",
    "driver.get('https://www.dnb.com/business-directory/company-information.outpatient_care_centers.ca.html?page=1')\n",
    "\n",
    "vals = driver.find_element_by_xpath(\n",
    "    \"//div[@class='codes-title naics']/span\").get_attribute(\"innerHTML\")\n",
    "\n",
    "vals = vals.split(\"&\")[0]\n",
    "print(vals)\n",
    "\n",
    "driver.close()"
   ]
  },
  {
   "cell_type": "code",
   "execution_count": 66,
   "id": "18a88a4b",
   "metadata": {},
   "outputs": [
    {
     "name": "stdout",
     "output_type": "stream",
     "text": [
      "length of links are:  1\n"
     ]
    }
   ],
   "source": [
    "# names, physical location, sales revenue($M)\n",
    "cap = DesiredCapabilities().FIREFOX\n",
    "cap[\"marionette\"] = False\n",
    "driver = webdriver.Firefox(capabilities=cap, executable_path=\"/home/ada/Downloads/geckodriver\")\n",
    "\n",
    "driver.get('https://www.dnb.com/business-directory/company-information.health_care_and_social_assistance.ca.html?page=2')\n",
    "\n",
    "# links = driver.find_elements_by_class_name(\"col-md-12 data\")\n",
    "vals = driver.find_element(By.TAG_NAME, 'div')\n",
    "vals = vals.find_elements(By.ID, value=\"companyResults\")\n",
    "print('length of links are: ', len(vals))\n",
    "names = []\n",
    "for i in range(len(vals)):\n",
    "    names.append(vals[i].text)\n",
    "\n",
    "\n",
    "driver.close()"
   ]
  },
  {
   "cell_type": "code",
   "execution_count": 81,
   "id": "b8a8d469",
   "metadata": {},
   "outputs": [],
   "source": [
    "# company dnd links\n",
    "cap = DesiredCapabilities().FIREFOX\n",
    "cap[\"marionette\"] = False\n",
    "driver = webdriver.Firefox(capabilities=cap, executable_path=\"/home/ada/Downloads/geckodriver\")\n",
    "\n",
    "driver.get('https://www.dnb.com/business-directory/company-information.health_care_and_social_assistance.ca.html?page=2')\n",
    "\n",
    "elems = driver.find_elements_by_xpath(\"//a[@href]\")\n",
    "links = []\n",
    "for elem in elems:\n",
    "    links.append(elem.get_attribute(\"href\"))\n",
    "\n",
    "\n",
    "driver.close()\n",
    "\n",
    "links = [i for i in links if \"company-profiles\" in i]"
   ]
  },
  {
   "cell_type": "code",
   "execution_count": 115,
   "id": "9ff8ff70",
   "metadata": {},
   "outputs": [
    {
     "name": "stdout",
     "output_type": "stream",
     "text": [
      "\n",
      "                                            10030 107 St NW Edmonton, AB, T5J 3E4 Canada\n",
      "                                            \n",
      "                                            \n"
     ]
    }
   ],
   "source": [
    "# company specific dnd details: address\n",
    "\n",
    "cap = DesiredCapabilities().FIREFOX\n",
    "cap[\"marionette\"] = False\n",
    "driver = webdriver.Firefox(capabilities=cap, executable_path=\"/home/ada/Downloads/geckodriver\")\n",
    "\n",
    "driver.get('https://www.dnb.com/business-directory/company-profiles.alberta_health_services.129b1f80ef8deb9b06ed739f80223ccb.html')\n",
    "\n",
    "vals = driver.find_element_by_xpath(\n",
    "    \"//div[@class='col-md-11']/span[@class='company_data_point' and @name='company_address']/span\").get_attribute(\"innerHTML\")\n",
    "\n",
    "vals = vals.split(\"<\")[0]\n",
    "print(vals)\n",
    "\n",
    "driver.close()"
   ]
  },
  {
   "cell_type": "code",
   "execution_count": 116,
   "id": "6f2085ed",
   "metadata": {},
   "outputs": [
    {
     "name": "stdout",
     "output_type": "stream",
     "text": [
      "(780) 342-2000\n"
     ]
    }
   ],
   "source": [
    "# company specific dnd details: telephone\n",
    "\n",
    "cap = DesiredCapabilities().FIREFOX\n",
    "cap[\"marionette\"] = False\n",
    "driver = webdriver.Firefox(capabilities=cap, executable_path=\"/home/ada/Downloads/geckodriver\")\n",
    "\n",
    "driver.get('https://www.dnb.com/business-directory/company-profiles.alberta_health_services.129b1f80ef8deb9b06ed739f80223ccb.html')\n",
    "\n",
    "vals = driver.find_element_by_xpath(\n",
    "    \"//div[@class='col-md-11']/span[@class='company_data_point' and @name='company_phone']/span\").get_attribute(\"innerHTML\")\n",
    "\n",
    "# vals = vals.split(\"<\")[0]\n",
    "print(vals)\n",
    "\n",
    "driver.close()"
   ]
  },
  {
   "cell_type": "code",
   "execution_count": 119,
   "id": "033801df",
   "metadata": {},
   "outputs": [
    {
     "name": "stdout",
     "output_type": "stream",
     "text": [
      "\n",
      "                                                    www.albertahealthservices.ca\n",
      "                                            \n"
     ]
    }
   ],
   "source": [
    "# company specific dnd details: telephone\n",
    "\n",
    "cap = DesiredCapabilities().FIREFOX\n",
    "cap[\"marionette\"] = False\n",
    "driver = webdriver.Firefox(capabilities=cap, executable_path=\"/home/ada/Downloads/geckodriver\")\n",
    "\n",
    "driver.get('https://www.dnb.com/business-directory/company-profiles.alberta_health_services.129b1f80ef8deb9b06ed739f80223ccb.html')\n",
    "\n",
    "vals = driver.find_element_by_xpath(\n",
    "    \"//div[@class='col-md-11']/span[@class='company_data_point' and @name='company_website']/span\").get_attribute(\"innerHTML\")\n",
    "\n",
    "vals = vals.split(\">\")[1].split(\"<\")[0]\n",
    "print(vals)\n",
    "\n",
    "driver.close()"
   ]
  },
  {
   "cell_type": "code",
   "execution_count": 120,
   "id": "3c9fa189",
   "metadata": {},
   "outputs": [
    {
     "name": "stdout",
     "output_type": "stream",
     "text": [
      "  84,415\n"
     ]
    }
   ],
   "source": [
    "# company specific dnd details: employees\n",
    "\n",
    "cap = DesiredCapabilities().FIREFOX\n",
    "cap[\"marionette\"] = False\n",
    "driver = webdriver.Firefox(capabilities=cap, executable_path=\"/home/ada/Downloads/geckodriver\")\n",
    "\n",
    "driver.get('https://www.dnb.com/business-directory/company-profiles.alberta_health_services.129b1f80ef8deb9b06ed739f80223ccb.html')\n",
    "\n",
    "vals = driver.find_element_by_xpath(\n",
    "    \"//div[@class='col-md-11']/span[@class='company_data_point' and @name='employees_all_site']/span\").get_attribute(\"innerHTML\")\n",
    "\n",
    "print(vals)\n",
    "\n",
    "driver.close()"
   ]
  },
  {
   "cell_type": "code",
   "execution_count": 121,
   "id": "7b6667a6",
   "metadata": {},
   "outputs": [
    {
     "name": "stdout",
     "output_type": "stream",
     "text": [
      "$12.16 billion\n"
     ]
    }
   ],
   "source": [
    "# company specific dnd details: revenue\n",
    "\n",
    "cap = DesiredCapabilities().FIREFOX\n",
    "cap[\"marionette\"] = False\n",
    "driver = webdriver.Firefox(capabilities=cap, executable_path=\"/home/ada/Downloads/geckodriver\")\n",
    "\n",
    "driver.get('https://www.dnb.com/business-directory/company-profiles.alberta_health_services.129b1f80ef8deb9b06ed739f80223ccb.html')\n",
    "\n",
    "vals = driver.find_element_by_xpath(\n",
    "    \"//div[@class='col-md-11']/span[@class='company_data_point' and @name='revenue_in_us_dollar']/span\").get_attribute(\"innerHTML\")\n",
    "\n",
    "print(vals)\n",
    "\n",
    "driver.close()"
   ]
  },
  {
   "cell_type": "code",
   "execution_count": 122,
   "id": "d519b139",
   "metadata": {},
   "outputs": [
    {
     "name": "stdout",
     "output_type": "stream",
     "text": [
      "Alberta Health Services\n"
     ]
    }
   ],
   "source": [
    "# company specific dnd details: company name\n",
    "\n",
    "cap = DesiredCapabilities().FIREFOX\n",
    "cap[\"marionette\"] = False\n",
    "driver = webdriver.Firefox(capabilities=cap, executable_path=\"/home/ada/Downloads/geckodriver\")\n",
    "\n",
    "driver.get('https://www.dnb.com/business-directory/company-profiles.alberta_health_services.129b1f80ef8deb9b06ed739f80223ccb.html')\n",
    "\n",
    "vals = driver.find_element_by_xpath(\n",
    "    \"//div[@class='margin-between-rows']/span[@class='company_data_point' and @name='company_name']/span\").get_attribute(\"innerHTML\")\n",
    "\n",
    "print(vals)\n",
    "\n",
    "driver.close()"
   ]
  },
  {
   "cell_type": "code",
   "execution_count": 123,
   "id": "fef38764",
   "metadata": {},
   "outputs": [
    {
     "name": "stdout",
     "output_type": "stream",
     "text": [
      "Alberta Health Services is located in Edmonton, AB, Canada and is part of the Outpatient Care Centers Industry. Alberta Health Services has   84,415 total employees across all of its locations and generates $12.16 billion in sales (USD). (Sales figure is modelled). There are    1,746 companies in the Alberta Health Services corporate family.\n"
     ]
    }
   ],
   "source": [
    "# company specific dnd details: description\n",
    "\n",
    "cap = DesiredCapabilities().FIREFOX\n",
    "cap[\"marionette\"] = False\n",
    "driver = webdriver.Firefox(capabilities=cap, executable_path=\"/home/ada/Downloads/geckodriver\")\n",
    "\n",
    "driver.get('https://www.dnb.com/business-directory/company-profiles.alberta_health_services.129b1f80ef8deb9b06ed739f80223ccb.html')\n",
    "\n",
    "vals = driver.find_element_by_xpath(\n",
    "    \"//div[@class='margin-between-rows']/span[@class='company_data_point' and @name='company_description']/span\").get_attribute(\"innerHTML\")\n",
    "\n",
    "print(vals)\n",
    "\n",
    "driver.close()"
   ]
  },
  {
   "cell_type": "code",
   "execution_count": 125,
   "id": "53dcc07e",
   "metadata": {},
   "outputs": [
    {
     "name": "stdout",
     "output_type": "stream",
     "text": [
      "\n",
      "                                        \n",
      "                                        \n",
      "                                            Verna Yiu\n",
      "                                        \n",
      "                                        \n"
     ]
    }
   ],
   "source": [
    "# company specific dnd details: contact person\n",
    "\n",
    "cap = DesiredCapabilities().FIREFOX\n",
    "cap[\"marionette\"] = False\n",
    "driver = webdriver.Firefox(capabilities=cap, executable_path=\"/home/ada/Downloads/geckodriver\")\n",
    "\n",
    "driver.get('https://www.dnb.com/business-directory/company-profiles.alberta_health_services.129b1f80ef8deb9b06ed739f80223ccb.html')\n",
    "\n",
    "vals = driver.find_element_by_xpath(\n",
    "    \"//div[@class='margin-between-rows']/span[@class='company_data_point' and @name='key_principal']/span\").get_attribute(\"innerHTML\")\n",
    "\n",
    "vals = vals.split(\"&\")[0]\n",
    "print(vals)\n",
    "\n",
    "driver.close()"
   ]
  },
  {
   "cell_type": "code",
   "execution_count": 146,
   "id": "7387e732",
   "metadata": {},
   "outputs": [
    {
     "name": "stdout",
     "output_type": "stream",
     "text": [
      "                                                                                                                                       Outpatient Care Centers                                                                                                                                                                                                                                                                                                                                                            Medical and Diagnostic Laboratories                                                                                                                                                                                                                                                                                                                                                            Continuing Care Retirement Communities and Assisted Living Facilities for the Elderly                                                                                                                                                                                                                                                                                                                                                        Health maintenance organization                                                                                                                                                                                                                                                              Medical laboratories                                                                                                                           \n"
     ]
    }
   ],
   "source": [
    "# company specific dnd details: services\n",
    "\n",
    "cap = DesiredCapabilities().FIREFOX\n",
    "cap[\"marionette\"] = False\n",
    "driver = webdriver.Firefox(capabilities=cap, executable_path=\"/home/ada/Downloads/geckodriver\")\n",
    "\n",
    "driver.get('https://www.dnb.com/business-directory/company-profiles.alberta_health_services.129b1f80ef8deb9b06ed739f80223ccb.html')\n",
    "\n",
    "vals = driver.find_element_by_xpath(\n",
    "    \"//div[@class='margin-between-rows']/span[@class='company_data_point' and @name='industry_links']/span\").get_attribute(\"innerHTML\")\n",
    "\n",
    "TAG_RE = re.compile(r'<[^>]+>')\n",
    "\n",
    "def remove_tags(text):\n",
    "    return TAG_RE.sub('', text)\n",
    "\n",
    "\n",
    "vals = remove_tags(vals).replace(\"\\n\", \" \").replace(\"&nbsp;\", \"\").replace(\",\", \"\")\n",
    "\n",
    "print(vals)\n",
    "\n",
    "driver.close()"
   ]
  },
  {
   "cell_type": "code",
   "execution_count": null,
   "id": "2e892bb4",
   "metadata": {},
   "outputs": [],
   "source": []
  },
  {
   "cell_type": "code",
   "execution_count": null,
   "id": "4b16eb5b",
   "metadata": {},
   "outputs": [],
   "source": []
  },
  {
   "cell_type": "code",
   "execution_count": null,
   "id": "b3dc42eb",
   "metadata": {},
   "outputs": [],
   "source": []
  }
 ],
 "metadata": {
  "kernelspec": {
   "display_name": "Python 3",
   "language": "python",
   "name": "python3"
  },
  "language_info": {
   "codemirror_mode": {
    "name": "ipython",
    "version": 3
   },
   "file_extension": ".py",
   "mimetype": "text/x-python",
   "name": "python",
   "nbconvert_exporter": "python",
   "pygments_lexer": "ipython3",
   "version": "3.7.10"
  },
  "toc": {
   "base_numbering": 1,
   "nav_menu": {},
   "number_sections": true,
   "sideBar": true,
   "skip_h1_title": false,
   "title_cell": "Table of Contents",
   "title_sidebar": "Contents",
   "toc_cell": false,
   "toc_position": {},
   "toc_section_display": true,
   "toc_window_display": true
  }
 },
 "nbformat": 4,
 "nbformat_minor": 5
}
