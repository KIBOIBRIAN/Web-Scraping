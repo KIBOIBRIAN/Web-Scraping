{
 "cells": [
  {
   "cell_type": "markdown",
   "id": "86cd4e8d",
   "metadata": {},
   "source": [
    "# Imports"
   ]
  },
  {
   "cell_type": "code",
   "execution_count": 11,
   "id": "ed3d7ee6",
   "metadata": {},
   "outputs": [],
   "source": [
    "from selenium import webdriver\n",
    "from selenium.webdriver.common.by import By\n",
    "from selenium.webdriver.support.ui import WebDriverWait\n",
    "from selenium.webdriver.support import expected_conditions as EC\n",
    "from selenium.common.exceptions import TimeoutException\n",
    "from selenium import webdriver\n",
    "from selenium.webdriver.common.desired_capabilities import DesiredCapabilities\n",
    "\n",
    "import re\n",
    "\n",
    "import pandas as pd\n",
    "import numpy as np"
   ]
  },
  {
   "cell_type": "markdown",
   "id": "8f4e0c63",
   "metadata": {},
   "source": [
    "# Helper Functions"
   ]
  },
  {
   "cell_type": "code",
   "execution_count": 150,
   "id": "87fbdee8",
   "metadata": {},
   "outputs": [],
   "source": [
    "\n",
    "def get_naics(\n",
    "    url= \"https://www.dnb.com/business-directory/company-information.outpatient_care_centers.ca.html?page=2\", \n",
    "    driver_path=\"/home/ada/Downloads/geckodriver\"\n",
    "    ):\n",
    "\n",
    "    cap = DesiredCapabilities().FIREFOX\n",
    "    cap[\"marionette\"] = False\n",
    "    driver = webdriver.Firefox(capabilities=cap, executable_path=driver_path)\n",
    "    driver.get(url)\n",
    "\n",
    "    vals = driver.find_element_by_xpath(\n",
    "        \"//div[@class='codes-title naics']/span\").get_attribute(\"innerHTML\")\n",
    "\n",
    "    vals = vals.split(\"&\")[0]\n",
    "    print(vals)\n",
    "\n",
    "    driver.close()\n",
    "\n",
    "    return vals\n",
    "\n",
    "\n",
    "\n",
    "def get_dnd_links(\n",
    "    url = \"https://www.dnb.com/business-directory/company-information.health_care_and_social_assistance.ca.html?page=2\",\n",
    "    driver_path = \"/home/ada/Downloads/geckodriver\"\n",
    "):\n",
    "\n",
    "\n",
    "    # company dnd links\n",
    "    cap = DesiredCapabilities().FIREFOX\n",
    "    cap[\"marionette\"] = False\n",
    "    driver = webdriver.Firefox(capabilities=cap, executable_path=driver_path)\n",
    "\n",
    "    driver.get(url)\n",
    "\n",
    "    elems = driver.find_elements_by_xpath(\"//a[@href]\")\n",
    "    links = []\n",
    "    for elem in elems:\n",
    "        links.append(elem.get_attribute(\"href\"))\n",
    "\n",
    "    driver.close()\n",
    "\n",
    "    links = [i for i in links if \"company-profiles\" in i]\n",
    "\n",
    "    return links\n",
    "\n",
    "    \n",
    "def get_company_details(\n",
    "    dnd_url = \"https://www.dnb.com/business-directory/company-profiles.alberta_health_services.129b1f80ef8deb9b06ed739f80223ccb.html\",\n",
    "    driver_path = \"/home/ada/Downloads/geckodriver\"\n",
    "):\n",
    "\n",
    "\n",
    "    cap = DesiredCapabilities().FIREFOX\n",
    "    cap[\"marionette\"] = False\n",
    "    driver = webdriver.Firefox(capabilities=cap, executable_path=driver_path)\n",
    "    driver.get(dnd_url)\n",
    "\n",
    "    # address\n",
    "    address = driver.find_element_by_xpath(\n",
    "        \"//div[@class='col-md-11']/span[@class='company_data_point' and @name='company_address']/span\").get_attribute(\"innerHTML\")\n",
    "    address = address.split(\"<\")[0]\n",
    "\n",
    "    # telephone\n",
    "    telephones = driver.find_element_by_xpath(\"//div[@class='col-md-11']/span[@class='company_data_point' and @name='company_phone']/span\").get_attribute(\"innerHTML\")\n",
    "\n",
    "    # website\n",
    "    website = driver.find_element_by_xpath(\n",
    "        \"//div[@class='col-md-11']/span[@class='company_data_point' and @name='company_website']/span\").get_attribute(\"innerHTML\")\n",
    "    website = website.split(\">\")[1].split(\"<\")[0]\n",
    "    \n",
    "    # employees\n",
    "    employees = driver.find_element_by_xpath(\n",
    "        \"//div[@class='col-md-11']/span[@class='company_data_point' and @name='employees_all_site']/span\").get_attribute(\"innerHTML\")\n",
    "\n",
    "    # revenue\n",
    "    revenue = driver.find_element_by_xpath(\n",
    "        \"//div[@class='col-md-11']/span[@class='company_data_point' and @name='revenue_in_us_dollar']/span\").get_attribute(\"innerHTML\")\n",
    "\n",
    "    # name\n",
    "    name = driver.find_element_by_xpath(\n",
    "        \"//div[@class='margin-between-rows']/span[@class='company_data_point' and @name='company_name']/span\").get_attribute(\"innerHTML\")\n",
    "\n",
    "    # description\n",
    "    description = driver.find_element_by_xpath(\n",
    "        \"//div[@class='margin-between-rows']/span[@class='company_data_point' and @name='company_description']/span\").get_attribute(\"innerHTML\")\n",
    "\n",
    "    # contact person\n",
    "    contact_person = driver.find_element_by_xpath(\n",
    "        \"//div[@class='margin-between-rows']/span[@class='company_data_point' and @name='key_principal']/span\").get_attribute(\"innerHTML\")\n",
    "    contact_person = contact_person.split(\"&\")[0]\n",
    "\n",
    "    \n",
    "    # services\n",
    "    services = driver.find_element_by_xpath(\n",
    "        \"//div[@class='margin-between-rows']/span[@class='company_data_point' and @name='industry_links']/span\").get_attribute(\"innerHTML\")\n",
    "\n",
    "    TAG_RE = re.compile(r'<[^>]+>')\n",
    "    def remove_tags(text):\n",
    "        return TAG_RE.sub('', text)\n",
    "\n",
    "\n",
    "    services = remove_tags(services).replace(\"\\n\", \" \").replace(\"&nbsp;\", \"\").replace(\",\", \"\")\n",
    "\n",
    "    driver.close()\n",
    "\n",
    "    df = pd.DataFrame(columns = [\n",
    "        \"name\", \"industry\", \"description\", \"naics\", \"services\", \"website\", \n",
    "        \"employees\", \"contact_person\", \"address\", \"\"])"
   ]
  },
  {
   "cell_type": "markdown",
   "id": "d36680a8",
   "metadata": {},
   "source": [
    "# Outpatient Care Centers Companies in Canada\n"
   ]
  },
  {
   "cell_type": "code",
   "execution_count": 152,
   "id": "2e892bb4",
   "metadata": {},
   "outputs": [
    {
     "name": "stdout",
     "output_type": "stream",
     "text": [
      "6214\n"
     ]
    }
   ],
   "source": [
    "# get naics\n",
    "naics = get_naics()"
   ]
  },
  {
   "cell_type": "code",
   "execution_count": 153,
   "id": "831b0096",
   "metadata": {},
   "outputs": [
    {
     "data": {
      "text/plain": [
       "50"
      ]
     },
     "execution_count": 153,
     "metadata": {},
     "output_type": "execute_result"
    }
   ],
   "source": [
    "dnd_links = get_dnd_links()\n",
    "len(dnd_links)"
   ]
  },
  {
   "cell_type": "code",
   "execution_count": null,
   "id": "a672cc25",
   "metadata": {},
   "outputs": [],
   "source": []
  },
  {
   "cell_type": "code",
   "execution_count": null,
   "id": "c75472dc",
   "metadata": {},
   "outputs": [],
   "source": []
  },
  {
   "cell_type": "code",
   "execution_count": null,
   "id": "649885e1",
   "metadata": {},
   "outputs": [],
   "source": []
  },
  {
   "cell_type": "code",
   "execution_count": null,
   "id": "c5f4475f",
   "metadata": {},
   "outputs": [],
   "source": []
  },
  {
   "cell_type": "code",
   "execution_count": null,
   "id": "7768fbf4",
   "metadata": {},
   "outputs": [],
   "source": []
  },
  {
   "cell_type": "code",
   "execution_count": null,
   "id": "0a5d2a89",
   "metadata": {},
   "outputs": [],
   "source": []
  },
  {
   "cell_type": "code",
   "execution_count": null,
   "id": "755fe0d6",
   "metadata": {},
   "outputs": [],
   "source": []
  },
  {
   "cell_type": "code",
   "execution_count": null,
   "id": "9c0b61da",
   "metadata": {},
   "outputs": [],
   "source": []
  },
  {
   "cell_type": "code",
   "execution_count": null,
   "id": "4b16eb5b",
   "metadata": {},
   "outputs": [],
   "source": []
  },
  {
   "cell_type": "code",
   "execution_count": null,
   "id": "b3dc42eb",
   "metadata": {},
   "outputs": [],
   "source": [
    "## dnd\n",
    "# names, physical location, sales revenue($M)\n",
    "cap = DesiredCapabilities().FIREFOX\n",
    "cap[\"marionette\"] = False\n",
    "driver = webdriver.Firefox(capabilities=cap, executable_path=\"/home/ada/Downloads/geckodriver\")\n",
    "\n",
    "driver.get('https://www.dnb.com/business-directory/company-information.health_care_and_social_assistance.ca.html?page=2')\n",
    "\n",
    "# links = driver.find_elements_by_class_name(\"col-md-12 data\")\n",
    "vals = driver.find_element(By.TAG_NAME, 'div')\n",
    "vals = vals.find_elements(By.ID, value=\"companyResults\")\n",
    "print('length of links are: ', len(vals))\n",
    "names = []\n",
    "for i in range(len(vals)):\n",
    "    names.append(vals[i].text)\n",
    "\n",
    "\n",
    "driver.close()"
   ]
  }
 ],
 "metadata": {
  "kernelspec": {
   "display_name": "Python 3",
   "language": "python",
   "name": "python3"
  },
  "language_info": {
   "codemirror_mode": {
    "name": "ipython",
    "version": 3
   },
   "file_extension": ".py",
   "mimetype": "text/x-python",
   "name": "python",
   "nbconvert_exporter": "python",
   "pygments_lexer": "ipython3",
   "version": "3.7.10"
  },
  "toc": {
   "base_numbering": 1,
   "nav_menu": {},
   "number_sections": true,
   "sideBar": true,
   "skip_h1_title": false,
   "title_cell": "Table of Contents",
   "title_sidebar": "Contents",
   "toc_cell": false,
   "toc_position": {},
   "toc_section_display": true,
   "toc_window_display": true
  }
 },
 "nbformat": 4,
 "nbformat_minor": 5
}
