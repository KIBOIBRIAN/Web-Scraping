{
 "cells": [
  {
   "cell_type": "markdown",
   "id": "86cd4e8d",
   "metadata": {},
   "source": [
    "# Imports"
   ]
  },
  {
   "cell_type": "code",
   "execution_count": 1,
   "id": "ed3d7ee6",
   "metadata": {},
   "outputs": [],
   "source": [
    "from selenium import webdriver\n",
    "from selenium.webdriver.common.by import By\n",
    "from selenium.webdriver.support.ui import WebDriverWait\n",
    "from selenium.webdriver.support import expected_conditions as EC\n",
    "from selenium.common.exceptions import TimeoutException\n",
    "from selenium import webdriver\n",
    "from selenium.webdriver.common.desired_capabilities import DesiredCapabilities\n",
    "\n",
    "import re\n",
    "import warnings\n",
    "\n",
    "import pandas as pd\n",
    "import numpy as np"
   ]
  },
  {
   "cell_type": "code",
   "execution_count": 2,
   "id": "7a61b566",
   "metadata": {},
   "outputs": [],
   "source": [
    "pd.set_option('display.max_rows', 500)\n",
    "pd.set_option('display.max_columns', 500)\n",
    "pd.set_option('display.width', 1000)\n",
    "\n",
    "warnings.filterwarnings(action=\"ignore\")"
   ]
  },
  {
   "cell_type": "markdown",
   "id": "8f4e0c63",
   "metadata": {},
   "source": [
    "# Helper Functions"
   ]
  },
  {
   "cell_type": "code",
   "execution_count": 3,
   "id": "87fbdee8",
   "metadata": {},
   "outputs": [],
   "source": [
    "\n",
    "def get_naics(\n",
    "    url= \"https://www.dnb.com/business-directory/company-information.outpatient_care_centers.ca.html?page=2\", \n",
    "    driver_path=\"/home/ada/Downloads/geckodriver\"\n",
    "    ):\n",
    "\n",
    "    cap = DesiredCapabilities().FIREFOX\n",
    "    cap[\"marionette\"] = False\n",
    "    driver = webdriver.Firefox(capabilities=cap, executable_path=driver_path)\n",
    "    driver.get(url)\n",
    "\n",
    "    vals = driver.find_element_by_xpath(\n",
    "        \"//div[@class='codes-title naics']/span\").get_attribute(\"innerHTML\")\n",
    "\n",
    "    vals = vals.split(\"&\")[0]\n",
    "    print(vals)\n",
    "\n",
    "    driver.close()\n",
    "\n",
    "    return vals\n",
    "\n",
    "\n",
    "\n",
    "def get_dnd_links(\n",
    "    url = \"https://www.dnb.com/business-directory/company-information.health_care_and_social_assistance.ca.html?page=2\",\n",
    "    driver_path = \"/home/ada/Downloads/geckodriver\"\n",
    "):\n",
    "\n",
    "\n",
    "    # company dnd links\n",
    "    cap = DesiredCapabilities().FIREFOX\n",
    "    cap[\"marionette\"] = False\n",
    "    driver = webdriver.Firefox(capabilities=cap, executable_path=driver_path)\n",
    "\n",
    "    driver.get(url)\n",
    "\n",
    "    elems = driver.find_elements_by_xpath(\"//a[@href]\")\n",
    "    links = []\n",
    "    for elem in elems:\n",
    "        links.append(elem.get_attribute(\"href\"))\n",
    "\n",
    "    driver.close()\n",
    "\n",
    "    links = [i for i in links if \"company-profiles\" in i]\n",
    "\n",
    "    return links\n",
    "\n",
    "    \n",
    "def get_company_details(\n",
    "    dnd_url = \"https://www.dnb.com/business-directory/company-profiles.alberta_health_services.129b1f80ef8deb9b06ed739f80223ccb.html\",\n",
    "    driver_path = \"/home/ada/Downloads/geckodriver\"\n",
    "):\n",
    "\n",
    "\n",
    "    cap = DesiredCapabilities().FIREFOX\n",
    "    cap[\"marionette\"] = False\n",
    "    driver = webdriver.Firefox(capabilities=cap, executable_path=driver_path)\n",
    "    driver.get(dnd_url)\n",
    "\n",
    "    # remove html tags\n",
    "    def remove_tags(text):\n",
    "        return TAG_RE.sub('', text)\n",
    "    \n",
    "    # address\n",
    "    address = driver.find_element_by_xpath(\n",
    "        \"//div[@class='col-md-11']/span[@class='company_data_point' and @name='company_address']/span\").get_attribute(\"innerHTML\")\n",
    "    address = address.split(\"<\")[0]\n",
    "#     address = remove_tags(address)\n",
    "    \n",
    "\n",
    "    # telephone\n",
    "    telephone = driver.find_element_by_xpath(\"//div[@class='col-md-11']/span[@class='company_data_point' and @name='company_phone']/span\").get_attribute(\"innerHTML\")\n",
    "\n",
    "    # website\n",
    "    website = driver.find_element_by_xpath(\n",
    "        \"//div[@class='col-md-11']/span[@class='company_data_point' and @name='company_website']/span\").get_attribute(\"innerHTML\")\n",
    "    website = website.split(\">\")[1].split(\"<\")[0]\n",
    "    \n",
    "    # employees\n",
    "    employees = driver.find_element_by_xpath(\n",
    "        \"//div[@class='col-md-11']/span[@class='company_data_point' and @name='employees_all_site']/span\").get_attribute(\"innerHTML\")\n",
    "\n",
    "    # revenue\n",
    "    revenue = driver.find_element_by_xpath(\n",
    "        \"//div[@class='col-md-11']/span[@class='company_data_point' and @name='revenue_in_us_dollar']/span\").get_attribute(\"innerHTML\")\n",
    "\n",
    "    # name\n",
    "    name = driver.find_element_by_xpath(\n",
    "        \"//div[@class='margin-between-rows']/span[@class='company_data_point' and @name='company_name']/span\").get_attribute(\"innerHTML\")\n",
    "\n",
    "    # description\n",
    "    description = driver.find_element_by_xpath(\n",
    "        \"//div[@class='margin-between-rows']/span[@class='company_data_point' and @name='company_description']/span\").get_attribute(\"innerHTML\")\n",
    "\n",
    "    # contact person\n",
    "    contact_person = driver.find_element_by_xpath(\n",
    "        \"//div[@class='margin-between-rows']/span[@class='company_data_point' and @name='key_principal']/span\").get_attribute(\"innerHTML\")\n",
    "    contact_person = contact_person.split(\"&\")[0]\n",
    "#     contact_person = remove_tags(contact_person)\n",
    "\n",
    "    \n",
    "    # services\n",
    "    services = driver.find_element_by_xpath(\n",
    "        \"//div[@class='margin-between-rows']/span[@class='company_data_point' and @name='industry_links']/span\").get_attribute(\"innerHTML\")\n",
    "\n",
    "    TAG_RE = re.compile(r'<[^>]+>')\n",
    "\n",
    "    services = remove_tags(services).replace(\"\\n\", \" \").replace(\"&nbsp;\", \"\").replace(\",\", \"\")\n",
    "\n",
    "    driver.close()\n",
    "\n",
    "    df =  pd.DataFrame([name, description, services, website, employees, contact_person, address, telephone, revenue]).T\n",
    "    df.columns = [\"name\", \"description\", \"services\", \"website\", \"employees\", \"contact_person\", \"address\", \"telephone\", \"revenue\"]\n",
    "\n",
    "    return df"
   ]
  },
  {
   "cell_type": "markdown",
   "id": "d36680a8",
   "metadata": {},
   "source": [
    "# Outpatient Care Centers Companies in Canada\n"
   ]
  },
  {
   "cell_type": "code",
   "execution_count": 4,
   "id": "2e892bb4",
   "metadata": {},
   "outputs": [
    {
     "name": "stdout",
     "output_type": "stream",
     "text": [
      "6214\n"
     ]
    }
   ],
   "source": [
    "# get naics\n",
    "naics = get_naics()"
   ]
  },
  {
   "cell_type": "code",
   "execution_count": 20,
   "id": "71d5874c",
   "metadata": {},
   "outputs": [],
   "source": [
    "urls = []\n",
    "for i in range(1, 3172, 1):\n",
    "    urls.append(f\"https://www.dnb.com/business-directory/company-information.health_care_and_social_assistance.ca.html?page={i}\")"
   ]
  },
  {
   "cell_type": "code",
   "execution_count": 22,
   "id": "831b0096",
   "metadata": {},
   "outputs": [],
   "source": [
    "dnd_links = []\n",
    "for url in urls:\n",
    "    dnd_links.append(get_dnd_links(url))\n",
    "    \n",
    "len(dnd_links)"
   ]
  },
  {
   "cell_type": "code",
   "execution_count": 6,
   "id": "a672cc25",
   "metadata": {},
   "outputs": [
    {
     "name": "stdout",
     "output_type": "stream",
     "text": [
      "https://www.dnb.com/business-directory/company-profiles.windsor_regional_hospital.fc678005878ec949cd484e7b042e94b4.html ---pass\n",
      "https://www.dnb.com/business-directory/company-profiles.soci%C3%A9t%C3%A9_de_gestion_du_centre_dexcellence_en_th%C3%A9rapie_cellulaire.3453523eca1d04e22a35b5210714923f.html ---pass\n",
      "https://www.dnb.com/business-directory/company-profiles.the_canadian_red_cross_society.0e0090048e870428462fb2cada180b2f.html ---pass\n"
     ]
    }
   ],
   "source": [
    "dfs = []\n",
    "for company in dnd_links:\n",
    "    try:\n",
    "        dfs.append(get_company_details(company))\n",
    "        print(company, \"---pass\")\n",
    "    except Exception:\n",
    "        pass"
   ]
  },
  {
   "cell_type": "code",
   "execution_count": 7,
   "id": "649885e1",
   "metadata": {},
   "outputs": [
    {
     "data": {
      "text/html": [
       "<div>\n",
       "<style scoped>\n",
       "    .dataframe tbody tr th:only-of-type {\n",
       "        vertical-align: middle;\n",
       "    }\n",
       "\n",
       "    .dataframe tbody tr th {\n",
       "        vertical-align: top;\n",
       "    }\n",
       "\n",
       "    .dataframe thead th {\n",
       "        text-align: right;\n",
       "    }\n",
       "</style>\n",
       "<table border=\"1\" class=\"dataframe\">\n",
       "  <thead>\n",
       "    <tr style=\"text-align: right;\">\n",
       "      <th></th>\n",
       "      <th>name</th>\n",
       "      <th>description</th>\n",
       "      <th>services</th>\n",
       "      <th>website</th>\n",
       "      <th>employees</th>\n",
       "      <th>contact_person</th>\n",
       "      <th>address</th>\n",
       "      <th>telephone</th>\n",
       "      <th>revenue</th>\n",
       "    </tr>\n",
       "  </thead>\n",
       "  <tbody>\n",
       "    <tr>\n",
       "      <th>0</th>\n",
       "      <td>Windsor Regional Hospital</td>\n",
       "      <td>Windsor Regional Hospital is located in Windso...</td>\n",
       "      <td>...</td>\n",
       "      <td>\\n                                            ...</td>\n",
       "      <td>2,200</td>\n",
       "      <td>\\n                                        \\n  ...</td>\n",
       "      <td>\\n                                            ...</td>\n",
       "      <td>(519) 254-5577</td>\n",
       "      <td>$466.95 million</td>\n",
       "    </tr>\n",
       "    <tr>\n",
       "      <th>0</th>\n",
       "      <td>Société de Gestion du Centre d'Excellence en T...</td>\n",
       "      <td>Société de Gestion du Centre d'Excellence en T...</td>\n",
       "      <td>...</td>\n",
       "      <td>\\n                                            ...</td>\n",
       "      <td>4,200</td>\n",
       "      <td>\\n                                        \\n  ...</td>\n",
       "      <td>\\n                                            ...</td>\n",
       "      <td>(514) 374-7940</td>\n",
       "      <td>$466.54 million</td>\n",
       "    </tr>\n",
       "    <tr>\n",
       "      <th>0</th>\n",
       "      <td>The Canadian Red Cross Society</td>\n",
       "      <td>The Canadian Red Cross Society is located in O...</td>\n",
       "      <td>...</td>\n",
       "      <td>\\n                                            ...</td>\n",
       "      <td>6,400</td>\n",
       "      <td>\\n                                        \\n  ...</td>\n",
       "      <td>\\n                                            ...</td>\n",
       "      <td>(613) 740-1900</td>\n",
       "      <td>$464.79 million</td>\n",
       "    </tr>\n",
       "  </tbody>\n",
       "</table>\n",
       "</div>"
      ],
      "text/plain": [
       "                                                name                                        description                                           services                                            website employees                                     contact_person                                            address       telephone          revenue\n",
       "0                          Windsor Regional Hospital  Windsor Regional Hospital is located in Windso...                                                ...  \\n                                            ...     2,200  \\n                                        \\n  ...  \\n                                            ...  (519) 254-5577  $466.95 million\n",
       "0  Société de Gestion du Centre d'Excellence en T...  Société de Gestion du Centre d'Excellence en T...                                                ...  \\n                                            ...     4,200  \\n                                        \\n  ...  \\n                                            ...  (514) 374-7940  $466.54 million\n",
       "0                     The Canadian Red Cross Society  The Canadian Red Cross Society is located in O...                                                ...  \\n                                            ...     6,400  \\n                                        \\n  ...  \\n                                            ...  (613) 740-1900  $464.79 million"
      ]
     },
     "execution_count": 7,
     "metadata": {},
     "output_type": "execute_result"
    }
   ],
   "source": [
    "mega = pd.concat(dfs)\n",
    "mega.to_csv(\"outpatient_cares.csv\")\n",
    "# dfs"
   ]
  },
  {
   "cell_type": "code",
   "execution_count": 8,
   "id": "c5f4475f",
   "metadata": {},
   "outputs": [
    {
     "data": {
      "text/plain": [
       "'                                                                                                                                       General Medical and Surgical Hospitals                                                                                                                                                                                                                                                                                                                                                            Hospitals                                                                                                                                                                                                                                                                                                                                                            Health Care and Social Assistance                                                                                                                                                                                                                                                                                                                                                        General medical and surgical hospitals                                                                                                                           '"
      ]
     },
     "execution_count": 8,
     "metadata": {},
     "output_type": "execute_result"
    }
   ],
   "source": [
    "mega.services.values[0]"
   ]
  },
  {
   "cell_type": "code",
   "execution_count": 10,
   "id": "7768fbf4",
   "metadata": {},
   "outputs": [
    {
     "data": {
      "text/plain": [
       "'\\n                                                    www.wrh.on.ca\\n                                            '"
      ]
     },
     "execution_count": 10,
     "metadata": {},
     "output_type": "execute_result"
    }
   ],
   "source": [
    "mega.website.values[0]"
   ]
  },
  {
   "cell_type": "code",
   "execution_count": null,
   "id": "0a5d2a89",
   "metadata": {},
   "outputs": [],
   "source": []
  },
  {
   "cell_type": "code",
   "execution_count": null,
   "id": "755fe0d6",
   "metadata": {},
   "outputs": [],
   "source": []
  },
  {
   "cell_type": "code",
   "execution_count": null,
   "id": "9c0b61da",
   "metadata": {},
   "outputs": [],
   "source": []
  },
  {
   "cell_type": "code",
   "execution_count": null,
   "id": "4b16eb5b",
   "metadata": {},
   "outputs": [],
   "source": []
  },
  {
   "cell_type": "code",
   "execution_count": 9,
   "id": "b3dc42eb",
   "metadata": {},
   "outputs": [],
   "source": [
    "# ## dnd\n",
    "# # names, physical location, sales revenue($M)\n",
    "# cap = DesiredCapabilities().FIREFOX\n",
    "# cap[\"marionette\"] = False\n",
    "# driver = webdriver.Firefox(capabilities=cap, executable_path=\"/home/ada/Downloads/geckodriver\")\n",
    "\n",
    "# driver.get('https://www.dnb.com/business-directory/company-information.health_care_and_social_assistance.ca.html?page=2')\n",
    "\n",
    "# # links = driver.find_elements_by_class_name(\"col-md-12 data\")\n",
    "# vals = driver.find_element(By.TAG_NAME, 'div')\n",
    "# vals = vals.find_elements(By.ID, value=\"companyResults\")\n",
    "# print('length of links are: ', len(vals))\n",
    "# names = []\n",
    "# for i in range(len(vals)):\n",
    "#     names.append(vals[i].text)\n",
    "\n",
    "\n",
    "# driver.close()"
   ]
  }
 ],
 "metadata": {
  "kernelspec": {
   "display_name": "Python 3",
   "language": "python",
   "name": "python3"
  },
  "language_info": {
   "codemirror_mode": {
    "name": "ipython",
    "version": 3
   },
   "file_extension": ".py",
   "mimetype": "text/x-python",
   "name": "python",
   "nbconvert_exporter": "python",
   "pygments_lexer": "ipython3",
   "version": "3.7.10"
  },
  "toc": {
   "base_numbering": 1,
   "nav_menu": {},
   "number_sections": true,
   "sideBar": true,
   "skip_h1_title": false,
   "title_cell": "Table of Contents",
   "title_sidebar": "Contents",
   "toc_cell": false,
   "toc_position": {},
   "toc_section_display": true,
   "toc_window_display": true
  }
 },
 "nbformat": 4,
 "nbformat_minor": 5
}
