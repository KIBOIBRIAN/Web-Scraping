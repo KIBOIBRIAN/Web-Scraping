{
 "cells": [
  {
   "cell_type": "markdown",
   "id": "86cd4e8d",
   "metadata": {},
   "source": [
    "# Imports"
   ]
  },
  {
   "cell_type": "code",
   "execution_count": 18,
   "id": "ed3d7ee6",
   "metadata": {},
   "outputs": [],
   "source": [
    "from selenium import webdriver\n",
    "from selenium.webdriver.common.by import By\n",
    "from selenium.webdriver.support.ui import WebDriverWait\n",
    "from selenium.webdriver.support import expected_conditions as EC\n",
    "from selenium.common.exceptions import TimeoutException\n",
    "from selenium import webdriver\n",
    "from selenium.webdriver.common.desired_capabilities import DesiredCapabilities\n",
    "\n",
    "import re\n",
    "import warnings\n",
    "\n",
    "import pandas as pd\n",
    "import numpy as np"
   ]
  },
  {
   "cell_type": "code",
   "execution_count": 19,
   "id": "7a61b566",
   "metadata": {},
   "outputs": [],
   "source": [
    "pd.set_option('display.max_rows', 500)\n",
    "pd.set_option('display.max_columns', 500)\n",
    "pd.set_option('display.width', 1000)\n",
    "\n",
    "warnings.filterwarnings(action=\"ignore\")"
   ]
  },
  {
   "cell_type": "markdown",
   "id": "8f4e0c63",
   "metadata": {},
   "source": [
    "# Helper Functions"
   ]
  },
  {
   "cell_type": "code",
   "execution_count": 20,
   "id": "87fbdee8",
   "metadata": {},
   "outputs": [],
   "source": [
    "\n",
    "def get_naics(\n",
    "    url= \"https://www.dnb.com/business-directory/company-information.outpatient_care_centers.ca.html\", \n",
    "    driver_path=\"/home/ada/Downloads/geckodriver\"\n",
    "    ):\n",
    "\n",
    "    cap = DesiredCapabilities().FIREFOX\n",
    "    cap[\"marionette\"] = False\n",
    "    driver = webdriver.Firefox(capabilities=cap, executable_path=driver_path)\n",
    "    driver.get(url)\n",
    "\n",
    "    vals = driver.find_element_by_xpath(\n",
    "        \"//div[@class='codes-title naics']/span\").get_attribute(\"innerHTML\")\n",
    "\n",
    "    vals = vals.split(\"&\")[0]\n",
    "    print(vals)\n",
    "\n",
    "    driver.close()\n",
    "\n",
    "    return vals\n",
    "\n",
    "\n",
    "\n",
    "def get_dnd_links(\n",
    "    url = \"https://www.dnb.com/business-directory/company-information.health_care_and_social_assistance.ca.html?page=2\",\n",
    "    driver_path = \"/home/ada/Downloads/geckodriver\"\n",
    "):\n",
    "\n",
    "\n",
    "    # company dnd links\n",
    "    cap = DesiredCapabilities().FIREFOX\n",
    "    cap[\"marionette\"] = False\n",
    "    driver = webdriver.Firefox(capabilities=cap, executable_path=driver_path)\n",
    "\n",
    "    driver.get(url)\n",
    "\n",
    "    elems = driver.find_elements_by_xpath(\"//a[@href]\")\n",
    "    links = []\n",
    "    for elem in elems:\n",
    "        links.append(elem.get_attribute(\"href\"))\n",
    "\n",
    "    driver.close()\n",
    "\n",
    "    links = [i for i in links if \"company-profiles\" in i]\n",
    "\n",
    "    return links\n",
    "\n",
    "    \n",
    "def get_company_details(\n",
    "    dnd_url = \"https://www.dnb.com/business-directory/company-profiles.alberta_health_services.129b1f80ef8deb9b06ed739f80223ccb.html\",\n",
    "    driver_path = \"/home/ada/Downloads/geckodriver\"\n",
    "):\n",
    "\n",
    "\n",
    "    cap = DesiredCapabilities().FIREFOX\n",
    "    cap[\"marionette\"] = False\n",
    "    driver = webdriver.Firefox(capabilities=cap, executable_path=driver_path)\n",
    "    driver.get(dnd_url)\n",
    "\n",
    "    # remove html tags\n",
    "    def remove_tags(text):\n",
    "        return TAG_RE.sub('', text)\n",
    "    \n",
    "    # address\n",
    "    address = driver.find_element_by_xpath(\n",
    "        \"//div[@class='col-md-11']/span[@class='company_data_point' and @name='company_address']/span\").get_attribute(\"innerHTML\")\n",
    "    address = address.split(\"<\")[0]\n",
    "#     address = remove_tags(address)\n",
    "    \n",
    "\n",
    "    # telephone\n",
    "    telephone = driver.find_element_by_xpath(\"//div[@class='col-md-11']/span[@class='company_data_point' and @name='company_phone']/span\").get_attribute(\"innerHTML\")\n",
    "\n",
    "    # website\n",
    "    website = driver.find_element_by_xpath(\n",
    "        \"//div[@class='col-md-11']/span[@class='company_data_point' and @name='company_website']/span\").get_attribute(\"innerHTML\")\n",
    "    website = website.split(\">\")[1].split(\"<\")[0]\n",
    "    \n",
    "    # employees\n",
    "    employees = driver.find_element_by_xpath(\n",
    "        \"//div[@class='col-md-11']/span[@class='company_data_point' and @name='employees_all_site']/span\").get_attribute(\"innerHTML\")\n",
    "\n",
    "    # revenue\n",
    "    revenue = driver.find_element_by_xpath(\n",
    "        \"//div[@class='col-md-11']/span[@class='company_data_point' and @name='revenue_in_us_dollar']/span\").get_attribute(\"innerHTML\")\n",
    "\n",
    "    # name\n",
    "    name = driver.find_element_by_xpath(\n",
    "        \"//div[@class='margin-between-rows']/span[@class='company_data_point' and @name='company_name']/span\").get_attribute(\"innerHTML\")\n",
    "\n",
    "    # description\n",
    "    description = driver.find_element_by_xpath(\n",
    "        \"//div[@class='margin-between-rows']/span[@class='company_data_point' and @name='company_description']/span\").get_attribute(\"innerHTML\")\n",
    "\n",
    "    # contact person\n",
    "    contact_person = driver.find_element_by_xpath(\n",
    "        \"//div[@class='margin-between-rows']/span[@class='company_data_point' and @name='key_principal']/span\").get_attribute(\"innerHTML\")\n",
    "    contact_person = contact_person.split(\"&\")[0]\n",
    "#     contact_person = remove_tags(contact_person)\n",
    "\n",
    "    \n",
    "    # services\n",
    "    services = driver.find_element_by_xpath(\n",
    "        \"//div[@class='margin-between-rows']/span[@class='company_data_point' and @name='industry_links']/span\").get_attribute(\"innerHTML\")\n",
    "\n",
    "    TAG_RE = re.compile(r'<[^>]+>')\n",
    "\n",
    "    services = remove_tags(services).replace(\"\\n\", \" \").replace(\"&nbsp;\", \"\").replace(\",\", \"\")\n",
    "\n",
    "    driver.close()\n",
    "\n",
    "    df =  pd.DataFrame([name, description, services, website, employees, contact_person, address, telephone, revenue]).T\n",
    "    df.columns = [\"name\", \"description\", \"services\", \"website\", \"employees\", \"contact_person\", \"address\", \"telephone\", \"revenue\"]\n",
    "\n",
    "    return df"
   ]
  },
  {
   "cell_type": "markdown",
   "id": "d36680a8",
   "metadata": {},
   "source": [
    "# Outpatient Care Centers Companies in Canada\n"
   ]
  },
  {
   "cell_type": "code",
   "execution_count": 21,
   "id": "2e892bb4",
   "metadata": {},
   "outputs": [
    {
     "name": "stdout",
     "output_type": "stream",
     "text": [
      "6214\n"
     ]
    }
   ],
   "source": [
    "# get naics\n",
    "naics = get_naics()"
   ]
  },
  {
   "cell_type": "code",
   "execution_count": 22,
   "id": "71d5874c",
   "metadata": {},
   "outputs": [
    {
     "data": {
      "text/plain": [
       "3171"
      ]
     },
     "execution_count": 22,
     "metadata": {},
     "output_type": "execute_result"
    }
   ],
   "source": [
    "urls = []\n",
    "for i in range(1, 3172):\n",
    "    urls.append(f\"https://www.dnb.com/business-directory/company-information.health_care_and_social_assistance.ca.html?page={i}\")\n",
    "    \n",
    "len(urls)"
   ]
  },
  {
   "cell_type": "code",
   "execution_count": 23,
   "id": "831b0096",
   "metadata": {},
   "outputs": [
    {
     "data": {
      "text/plain": [
       "20"
      ]
     },
     "execution_count": 23,
     "metadata": {},
     "output_type": "execute_result"
    }
   ],
   "source": [
    "dnd_links = []\n",
    "for url in urls[:20]:\n",
    "    try:\n",
    "        dnd_links.append(get_dnd_links(url))              \n",
    "    except Exception:\n",
    "        pass\n",
    "    \n",
    "len(dnd_links)"
   ]
  },
  {
   "cell_type": "code",
   "execution_count": 34,
   "id": "717b9ce3",
   "metadata": {
    "scrolled": true
   },
   "outputs": [
    {
     "data": {
      "text/plain": [
       "1000"
      ]
     },
     "execution_count": 34,
     "metadata": {},
     "output_type": "execute_result"
    }
   ],
   "source": [
    "dnd_links = [item for sublist in dnd_links for item in sublist]\n",
    "len(dnd_links)"
   ]
  },
  {
   "cell_type": "markdown",
   "id": "c912b2e8",
   "metadata": {},
   "source": [
    "### 1st 320"
   ]
  },
  {
   "cell_type": "code",
   "execution_count": null,
   "id": "984a483b",
   "metadata": {},
   "outputs": [],
   "source": [
    "dfs = []\n",
    "for company in dnd_links:\n",
    "    try:\n",
    "        dfs.append(get_company_details(company))\n",
    "        print(company.split(\".\")[3].split(\".\")[0], \"---pass\")\n",
    "    except Exception:\n",
    "        pass\n",
    "    "
   ]
  },
  {
   "cell_type": "code",
   "execution_count": null,
   "id": "a672cc25",
   "metadata": {},
   "outputs": [
    {
     "name": "stdout",
     "output_type": "stream",
     "text": [
      "alberta_health_services ---pass\n",
      "omers_private_equity_inc ---pass\n",
      "the_winnipeg_regional_health_authority ---pass\n",
      "provincial_health_services_authority ---pass\n",
      "young_mens_christian_association_of_edmonton ---pass\n",
      "centre_de_sant%C3%A9_et_de_services_sociaux_de_laval ---pass\n",
      "vancouver_island_health_authority ---pass\n",
      "university_health_network ---pass\n",
      "interior_health_authority ---pass\n",
      "centre_int%C3%A9gr%C3%A9_de_sant%C3%A9_et_de_services_sociaux_de_la_mont%C3%A9r%C3%A9gie-centre ---pass\n",
      "prairie_mountain_health ---pass\n",
      "eastern_regional_integrated_health_authority ---pass\n",
      "mcgill_university_health_centre ---pass\n",
      "regional_health_authority_nb ---pass\n",
      "nova_scotia_health_authority ---pass\n",
      "the_ottawa_hospital ---pass\n",
      "extendicare_(canada)_inc ---pass\n",
      "sunnybrook_health_sciences_centre ---pass\n",
      "covenant_health ---pass\n",
      "hamilton_health_sciences_corporation ---pass\n",
      "gestion_global_excel_inc ---pass\n",
      "chartwell_master_care_lp ---pass\n",
      "centre_hospitalier_de_luniversit%C3%A9_de_montr%C3%A9al ---pass\n",
      "trillium_health_partners ---pass\n",
      "lifelabs_lp ---pass\n",
      "dynacare-gamma_laboratory_partnership ---pass\n",
      "extendicare_inc ---pass\n",
      "london_health_sciences_centre ---pass\n",
      "the_hospital_for_sick_children ---pass\n",
      "northern_health_authority ---pass\n",
      "linde_canada_inc ---pass\n",
      "providence_health_care_society ---pass\n",
      "revera_inc ---pass\n",
      "centre_int%C3%A9gr%C3%A9_de_sant%C3%A9_et_de_services_sociaux_des_laurentides ---pass\n",
      "providence_healthcare ---pass\n",
      "leisureworld_senior_care_lp ---pass\n",
      "cml_healthcare_inc ---pass\n",
      "the_governing_council_of_the_salvation_army_in_canada ---pass\n",
      "centre_de_sant%C3%A9_et_de_services_sociaux_de_chicoutimi ---pass\n",
      "st_michaels_hospital ---pass\n",
      "centre_de_sant%C3%A9_et_de_services_sociaux_de_qu%C3%A9bec-nord ---pass\n",
      "centre_de_sant%C3%A9_et_de_services_sociaux_-_institut_universitaire_de_g%C3%A9riatrie_de_sherbrooke ---pass\n",
      "ironhorse_corporation ---pass\n",
      "niagara_health_system ---pass\n",
      "sienna_senior_living_inc ---pass\n",
      "institut_universitaire_de_cardiologie_et_de_pneumologie_de_qu%C3%A9bec_-_universit%C3%A9_laval ---pass\n",
      "windsor_regional_hospital ---pass\n",
      "soci%C3%A9t%C3%A9_de_gestion_du_centre_dexcellence_en_th%C3%A9rapie_cellulaire ---pass\n",
      "the_canadian_red_cross_society ---pass\n",
      "childrens__womens_health_centre_of_british_columbia_branch ---pass\n",
      "ww_canada_ltd ---pass\n",
      "linstitut_de_recherche_du_centre_universitaire_de_sant%C3%A9_mcgill ---pass\n",
      "marianhill_inc ---pass\n",
      "izaak_walton_killam_health_centre_the ---pass\n",
      "dynalifedx ---pass\n",
      "health_sciences_north ---pass\n",
      "medical_facilities_corporation ---pass\n",
      "bayshore_healthcare_ltd ---pass\n",
      "regional_health_authority_-_central_manitoba_inc ---pass\n",
      "the_good_samaritan_society_(a_lutheran_social_service_organization) ---pass\n",
      "cape_breton_district_health_authority ---pass\n",
      "centre_hospitalier_universitaire_sainte-justine ---pass\n",
      "comcare_(canada)_limited ---pass\n",
      "st_josephs_health_care_foundation_of_london ---pass\n",
      "geotab_inc ---pass\n",
      "halton_healthcare_services_corporation ---pass\n",
      "villa_charities_inc ---pass\n",
      "homewood_health_inc ---pass\n",
      "st_boniface_general_hospital ---pass\n",
      "st_boniface_general_hospital_inc ---pass\n",
      "toronto_east_health_network ---pass\n",
      "lakeridge_health ---pass\n",
      "humber_river_hospital ---pass\n",
      "markham_stouffville_hospital_development_corporation ---pass\n",
      "central_regional_health_authority ---pass\n",
      "north_york_general_hospital ---pass\n",
      "imkt_direct_solutions_corporation ---pass\n",
      "thunder_bay_regional_health_sciences_centre ---pass\n",
      "revera_long_term_care_inc ---pass\n",
      "grand_river_hospital_corporation ---pass\n",
      "h%C3%B4pital_charles_lemoyne ---pass\n",
      "childrens_hospital_of_eastern_ontario ---pass\n",
      "prairie_north_regional_health_authority ---pass\n",
      "vitalite_health_network ---pass\n",
      "kingston_health_sciences_centre ---pass\n",
      "victorian_order_of_nurses_for_canada ---pass\n",
      "h%C3%A9ma-qu%C3%A9bec ---pass\n",
      "medisys_holding_lp ---pass\n",
      "north_bay_regional_health_centre ---pass\n",
      "centre_hospitalier_de_st_marys ---pass\n",
      "caa_north__east_ontario ---pass\n",
      "southlake_regional_health_centre ---pass\n",
      "british_columbias_childrens_hospital ---pass\n",
      "andlauer_healthcare_group_inc ---pass\n",
      "mackenzie_health ---pass\n",
      "le_centres_jeunesse_de_montr%C3%A9al_institut_universitaire ---pass\n",
      "2063414_ontario_limited ---pass\n",
      "lifemark_health_corp ---pass\n",
      "peterborough_regional_health_centre ---pass\n",
      "le_centre_de_sant%C3%A9_et_de_services_sociaux_de_bordeaux-cartierville-saint-laurent ---pass\n",
      "institut_de_cardiologie_de_montr%C3%A9al ---pass\n",
      "st_josephs_health_centre ---pass\n",
      "royal_victoria_regional_health_centre ---pass\n",
      "centre_de_sant%C3%A9_et_de_services_sociaux_de_gatineau ---pass\n",
      "groupe_vision_new_look_inc ---pass\n",
      "invesque_inc ---pass\n",
      "risingoaks_early_learning_ontario ---pass\n",
      "centre_for_addiction_and_mental_health ---pass\n",
      "centre_de_sant%C3%A9_et_de_services_sociaux_du_suroit ---pass\n",
      "schlegel_villages_inc ---pass\n",
      "ymca_of_greater_toronto ---pass\n",
      "quinte_healthcare_corporation ---pass\n",
      "interlake_regional_health_authority_inc ---pass\n",
      "ornge ---pass\n",
      "syndicat_interprofessionnel_de_la_sant%C3%A9_de_liucpq ---pass\n",
      "oak_valley_health ---pass\n",
      "centre_for_autism_services_alberta ---pass\n",
      "northern_regional_health_authority ---pass\n",
      "atlantic_baptist_senior_citizens_homes_inc ---pass\n",
      "vancouver_coastal_health ---pass\n",
      "capital_care_group_inc ---pass\n",
      "saint_elizabeth_health_care ---pass\n",
      "centre_integre_universitaire_de_sante_et_de_services_sociaux_de_la_mauricie_du_quebec ---pass\n",
      "young_mens_christian_association_of_windsor_and_essex_county ---pass\n",
      "hopital_santa_cabrini ---pass\n",
      "vitalite_health_network ---pass\n",
      "baycrest_centre_for_geriatric_care ---pass\n",
      "csss_pierre-de_saurel ---pass\n",
      "altima_dental_canada_inc ---pass\n",
      "joseph_brant_hospital ---pass\n",
      "seven_oaks_general_hospital ---pass\n",
      "grey_bruce_health_services ---pass\n",
      "fyi_eye_care_services_and_products_inc ---pass\n",
      "queensway-carleton_hospital ---pass\n",
      "cornwall_community_hospital ---pass\n",
      "scarborough_health_network ---pass\n",
      "st_pauls_hospital_(grey_nuns)_of_saskatoon ---pass\n",
      "syneos_health_clinique_inc ---pass\n",
      "alpha_laboratories_inc ---pass\n",
      "sault_area_hospital ---pass\n",
      "advent_health_care_corporation ---pass\n",
      "h%C3%B4pital_jeffery_hale_-_saint_brigids ---pass\n",
      "les_ymca_du_quebec ---pass\n",
      "bluewater_health ---pass\n",
      "diversicare_canada_management_services_co_inc ---pass\n",
      "toronto_rehabilitation_institute ---pass\n",
      "victoria_general_hospital ---pass\n",
      "cambridge_memorial_hospital ---pass\n",
      "brant_community_healthcare_system ---pass\n",
      "bruyere_continuing_care_inc ---pass\n",
      "st_josephs_health_system ---pass\n",
      "ymca_of_hamilton-burlington-brantford ---pass\n",
      "st_josephs_care_group ---pass\n",
      "womens_college_hospital ---pass\n",
      "guelph_general_hospital ---pass\n",
      "carerx_corporation ---pass\n",
      "providence_care_centre ---pass\n",
      "concordia_hospital ---pass\n",
      "centre_de_sant%C3%A9_et_de_services_sociaux_de_la_baie-des-chaleurs ---pass\n",
      "university_of_ottawa_heart_institute ---pass\n",
      "guysborough_antigonish_strait_health_authority ---pass\n",
      "religious_hospitallers_of_saint_joseph_of_the_hotel_dieu_of_kingston ---pass\n",
      "muskoka_algonquin_healthcare ---pass\n",
      "brockville_general_hospital ---pass\n",
      "carewest ---pass\n",
      "omni_health_care_limited_partnership ---pass\n",
      "omni_health_care_ltd ---pass\n",
      "connecting_care_(2000)_inc ---pass\n",
      "miramichi_regional_health_authority ---pass\n",
      "misericordia_general_hospital ---pass\n",
      "industries_goodwill_renaissance_montr%C3%A9al_inc ---pass\n",
      "cancercare_manitoba ---pass\n",
      "emergency_and_health_services_commission ---pass\n",
      "hopital_montfort ---pass\n",
      "centre_hospitalier_fleury ---pass\n",
      "ross_memorial_hospital_the ---pass\n",
      "centre_de_sant%C3%A9_et_de_services_sociaux_de_b%C3%A9cancour-nicolet-yamaska ---pass\n",
      "woodstock_general_hospital_trust ---pass\n",
      "institut_universitaire_en_sant%C3%A9_mentale_douglas ---pass\n",
      "teksmed_services_inc ---pass\n",
      "amica_mature_lifestyles_inc ---pass\n",
      "the_st_thomas-elgin_general_hospital ---pass\n",
      "cumberland_health_authority ---pass\n",
      "timmins_and_district_hospital ---pass\n",
      "ontario_shores_centre_for_mental_health_sciences ---pass\n",
      "oi_employee_leasing_inc ---pass\n",
      "bethesda_home_for_the_mentally_handicapped_inc ---pass\n",
      "steeves__rozema_enterprises_limited ---pass\n",
      "st_amant_inc ---pass\n",
      "corporation_durgences-sant%C3%A9 ---pass\n",
      "south_west_nova_district_health_authority ---pass\n",
      "cross_dr_g_b_memorial_hospital ---pass\n",
      "royal_ottawa_mental_health_centre ---pass\n",
      "community_living_toronto ---pass\n",
      "commission_scolaire_de_lestuaire ---pass\n",
      "sydenham_district_hospital ---pass\n",
      "institut_de_r%C3%A9adaptation_en_d%C3%A9ficience_physique_de_qu%C3%A9bec ---pass\n"
     ]
    },
    {
     "name": "stdout",
     "output_type": "stream",
     "text": [
      "middlesex_london_health_unit ---pass\n",
      "georgian_bay_general_hospital ---pass\n",
      "association_des_b%C3%A9n%C3%A9voles_du_centre_de_sant%C3%A9_paul-gilbert ---pass\n"
     ]
    }
   ],
   "source": [
    "mega = pd.concat(dfs)\n",
    "mega.shape\n",
    "mega.to_csv(\"output/outpatient_cares_0-320.csv\")\n",
    "# dfs"
   ]
  },
  {
   "cell_type": "code",
   "execution_count": 46,
   "id": "86c8f44d",
   "metadata": {},
   "outputs": [
    {
     "name": "stdout",
     "output_type": "stream",
     "text": [
      "(320, 9)\n"
     ]
    },
    {
     "data": {
      "text/html": [
       "<div>\n",
       "<style scoped>\n",
       "    .dataframe tbody tr th:only-of-type {\n",
       "        vertical-align: middle;\n",
       "    }\n",
       "\n",
       "    .dataframe tbody tr th {\n",
       "        vertical-align: top;\n",
       "    }\n",
       "\n",
       "    .dataframe thead th {\n",
       "        text-align: right;\n",
       "    }\n",
       "</style>\n",
       "<table border=\"1\" class=\"dataframe\">\n",
       "  <thead>\n",
       "    <tr style=\"text-align: right;\">\n",
       "      <th></th>\n",
       "      <th>name</th>\n",
       "      <th>description</th>\n",
       "      <th>services</th>\n",
       "      <th>website</th>\n",
       "      <th>employees</th>\n",
       "      <th>contact_person</th>\n",
       "      <th>address</th>\n",
       "      <th>telephone</th>\n",
       "      <th>revenue</th>\n",
       "    </tr>\n",
       "  </thead>\n",
       "  <tbody>\n",
       "    <tr>\n",
       "      <th>0</th>\n",
       "      <td>Bethany Nursing Home of Camrose, Alberta</td>\n",
       "      <td>Bethany Nursing Home of Camrose, Alberta is lo...</td>\n",
       "      <td>...</td>\n",
       "      <td>\\n                                            ...</td>\n",
       "      <td>600</td>\n",
       "      <td>\\n                                        \\n  ...</td>\n",
       "      <td>\\n                                            ...</td>\n",
       "      <td>(780) 679-2000</td>\n",
       "      <td>$41.00 million</td>\n",
       "    </tr>\n",
       "    <tr>\n",
       "      <th>0</th>\n",
       "      <td>Progress Homes Inc</td>\n",
       "      <td>Progress Homes Inc is located in St. John's, N...</td>\n",
       "      <td>...</td>\n",
       "      <td>\\n                                            ...</td>\n",
       "      <td>150</td>\n",
       "      <td>\\n                                        \\n  ...</td>\n",
       "      <td>\\n                                            ...</td>\n",
       "      <td>(709) 754-1165</td>\n",
       "      <td>$40.64 million</td>\n",
       "    </tr>\n",
       "    <tr>\n",
       "      <th>0</th>\n",
       "      <td>Sunbeam Community &amp;amp; Developmental Services</td>\n",
       "      <td>Sunbeam Community &amp;amp; Developmental Services...</td>\n",
       "      <td>...</td>\n",
       "      <td>\\n                                            ...</td>\n",
       "      <td>250</td>\n",
       "      <td>\\n                                        \\n  ...</td>\n",
       "      <td>\\n                                            ...</td>\n",
       "      <td>(519) 893-6200</td>\n",
       "      <td>$40.45 million</td>\n",
       "    </tr>\n",
       "    <tr>\n",
       "      <th>0</th>\n",
       "      <td>Stars Aviation Canada Inc</td>\n",
       "      <td>Stars Aviation Canada Inc is located in Calgar...</td>\n",
       "      <td>...</td>\n",
       "      <td>\\n                                            ...</td>\n",
       "      <td>150</td>\n",
       "      <td>\\n                                        \\n  ...</td>\n",
       "      <td>\\n                                            ...</td>\n",
       "      <td>(403) 295-1811</td>\n",
       "      <td>$40.05 million</td>\n",
       "    </tr>\n",
       "    <tr>\n",
       "      <th>0</th>\n",
       "      <td>Forensic Psychiatric Services Commission</td>\n",
       "      <td>Forensic Psychiatric Services Commission is lo...</td>\n",
       "      <td>...</td>\n",
       "      <td>\\n                                            ...</td>\n",
       "      <td>500</td>\n",
       "      <td>\\n                                        \\n  ...</td>\n",
       "      <td>\\n                                            ...</td>\n",
       "      <td>(604) 524-7700</td>\n",
       "      <td>$39.94 million</td>\n",
       "    </tr>\n",
       "  </tbody>\n",
       "</table>\n",
       "</div>"
      ],
      "text/plain": [
       "                                             name                                        description                                           services                                            website employees                                     contact_person                                            address       telephone         revenue\n",
       "0        Bethany Nursing Home of Camrose, Alberta  Bethany Nursing Home of Camrose, Alberta is lo...                                                ...  \\n                                            ...       600  \\n                                        \\n  ...  \\n                                            ...  (780) 679-2000  $41.00 million\n",
       "0                              Progress Homes Inc  Progress Homes Inc is located in St. John's, N...                                                ...  \\n                                            ...       150  \\n                                        \\n  ...  \\n                                            ...  (709) 754-1165  $40.64 million\n",
       "0  Sunbeam Community &amp; Developmental Services  Sunbeam Community &amp; Developmental Services...                                                ...  \\n                                            ...       250  \\n                                        \\n  ...  \\n                                            ...  (519) 893-6200  $40.45 million\n",
       "0                       Stars Aviation Canada Inc  Stars Aviation Canada Inc is located in Calgar...                                                ...  \\n                                            ...       150  \\n                                        \\n  ...  \\n                                            ...  (403) 295-1811  $40.05 million\n",
       "0        Forensic Psychiatric Services Commission  Forensic Psychiatric Services Commission is lo...                                                ...  \\n                                            ...       500  \\n                                        \\n  ...  \\n                                            ...  (604) 524-7700  $39.94 million"
      ]
     },
     "execution_count": 46,
     "metadata": {},
     "output_type": "execute_result"
    }
   ],
   "source": [
    "print(mega.shape)\n",
    "mega.tail()"
   ]
  },
  {
   "cell_type": "code",
   "execution_count": 57,
   "id": "9a69176d",
   "metadata": {
    "scrolled": false
   },
   "outputs": [
    {
     "data": {
      "text/plain": [
       "774"
      ]
     },
     "execution_count": 57,
     "metadata": {},
     "output_type": "execute_result"
    }
   ],
   "source": [
    "374 + 400"
   ]
  },
  {
   "cell_type": "markdown",
   "id": "430c3282",
   "metadata": {},
   "source": [
    "### 2nd 680"
   ]
  },
  {
   "cell_type": "code",
   "execution_count": null,
   "id": "9489121e",
   "metadata": {},
   "outputs": [
    {
     "name": "stdout",
     "output_type": "stream",
     "text": [
      "the_childrens_aid_society_of_the_region_of_peel ---pass\n",
      "the_canadian_national_institute_for_the_blind ---pass\n",
      "coll%C3%A8ge_lasalle ---pass\n"
     ]
    }
   ],
   "source": [
    "dfs = []\n",
    "for company in dnd_links[374:774]:\n",
    "    try:\n",
    "        dfs.append(get_company_details(company))\n",
    "        print(company.split(\".\")[3].split(\".\")[0], \"---pass\")\n",
    "    except Exception:\n",
    "        pass"
   ]
  },
  {
   "cell_type": "code",
   "execution_count": null,
   "id": "9a89ce02",
   "metadata": {},
   "outputs": [],
   "source": [
    "mega = pd.concat(dfs)\n",
    "mega.shape\n",
    "mega.to_csv(\"output/outpatient_cares_374_774.csv\")\n",
    "# dfs"
   ]
  },
  {
   "cell_type": "code",
   "execution_count": null,
   "id": "964db556",
   "metadata": {},
   "outputs": [],
   "source": []
  },
  {
   "cell_type": "code",
   "execution_count": null,
   "id": "f9436e71",
   "metadata": {},
   "outputs": [],
   "source": []
  },
  {
   "cell_type": "code",
   "execution_count": null,
   "id": "ca636ef0",
   "metadata": {},
   "outputs": [],
   "source": []
  },
  {
   "cell_type": "code",
   "execution_count": null,
   "id": "8d4e04f7",
   "metadata": {},
   "outputs": [],
   "source": []
  },
  {
   "cell_type": "code",
   "execution_count": null,
   "id": "eec29144",
   "metadata": {},
   "outputs": [],
   "source": []
  },
  {
   "cell_type": "code",
   "execution_count": null,
   "id": "bca3e136",
   "metadata": {},
   "outputs": [],
   "source": []
  },
  {
   "cell_type": "code",
   "execution_count": null,
   "id": "4ad0fe41",
   "metadata": {},
   "outputs": [],
   "source": []
  },
  {
   "cell_type": "code",
   "execution_count": null,
   "id": "53928066",
   "metadata": {},
   "outputs": [],
   "source": []
  },
  {
   "cell_type": "code",
   "execution_count": null,
   "id": "755fe0d6",
   "metadata": {},
   "outputs": [],
   "source": [
    "dnd_links = []\n",
    "for url in urls[20:100]:\n",
    "    try:\n",
    "        dnd_links.append(get_dnd_links(url))              \n",
    "    except Exception:\n",
    "        pass\n",
    "    \n",
    "len(dnd_links)"
   ]
  },
  {
   "cell_type": "code",
   "execution_count": null,
   "id": "9c0b61da",
   "metadata": {},
   "outputs": [],
   "source": [
    "dfs_ = []\n",
    "for company in dnd_links:\n",
    "    try:\n",
    "        dfs_.append(get_company_details(company))\n",
    "        print(company.split(\".\")[3].split(\".\")[0], \"---pass\")\n",
    "    except Exception:\n",
    "        pass"
   ]
  },
  {
   "cell_type": "code",
   "execution_count": null,
   "id": "4b16eb5b",
   "metadata": {},
   "outputs": [],
   "source": [
    "m = pd.concat(dfs_)\n",
    "m.to_csv(\"outpatient_cares_1.csv\")\n",
    "# dfs"
   ]
  },
  {
   "cell_type": "code",
   "execution_count": null,
   "id": "b3dc42eb",
   "metadata": {},
   "outputs": [],
   "source": [
    "# ## dnd\n",
    "# # names, physical location, sales revenue($M)\n",
    "# cap = DesiredCapabilities().FIREFOX\n",
    "# cap[\"marionette\"] = False\n",
    "# driver = webdriver.Firefox(capabilities=cap, executable_path=\"/home/ada/Downloads/geckodriver\")\n",
    "\n",
    "# driver.get('https://www.dnb.com/business-directory/company-information.health_care_and_social_assistance.ca.html?page=2')\n",
    "\n",
    "# # links = driver.find_elements_by_class_name(\"col-md-12 data\")\n",
    "# vals = driver.find_element(By.TAG_NAME, 'div')\n",
    "# vals = vals.find_elements(By.ID, value=\"companyResults\")\n",
    "# print('length of links are: ', len(vals))\n",
    "# names = []\n",
    "# for i in range(len(vals)):\n",
    "#     names.append(vals[i].text)\n",
    "\n",
    "\n",
    "# driver.close()"
   ]
  }
 ],
 "metadata": {
  "kernelspec": {
   "display_name": "Python 3 (ipykernel)",
   "language": "python",
   "name": "python3"
  },
  "language_info": {
   "codemirror_mode": {
    "name": "ipython",
    "version": 3
   },
   "file_extension": ".py",
   "mimetype": "text/x-python",
   "name": "python",
   "nbconvert_exporter": "python",
   "pygments_lexer": "ipython3",
   "version": "3.9.7"
  },
  "toc": {
   "base_numbering": 1,
   "nav_menu": {},
   "number_sections": true,
   "sideBar": true,
   "skip_h1_title": false,
   "title_cell": "Table of Contents",
   "title_sidebar": "Contents",
   "toc_cell": false,
   "toc_position": {
    "height": "calc(100% - 180px)",
    "left": "10px",
    "top": "150px",
    "width": "384px"
   },
   "toc_section_display": true,
   "toc_window_display": true
  }
 },
 "nbformat": 4,
 "nbformat_minor": 5
}
