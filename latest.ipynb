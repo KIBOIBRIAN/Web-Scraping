{
 "cells": [
  {
   "cell_type": "markdown",
   "id": "d175ae69",
   "metadata": {},
   "source": [
    "# Companies in Canada\n",
    "\n",
    "- 1 million companies lines.\n",
    "\n",
    "**Must:** \n",
    "1. ~~Business Name~~\n",
    "2. ~~Primary Contact phone~~\n",
    "3. ~~Mailing address~~\n",
    "5. ~~Mailing city ~~\n",
    "6. ~~Website~~\n",
    "7. ~~Mailing Province~~\n",
    "8. ~~Business activity~~\n",
    "9. ~~Mailing Postal~~\n",
    "8. ~~Industry~~ -- we hard code this.\n",
    "9. ~~NAICS primary~~ -- we hard code this.\n",
    "4. Fax\n",
    "11. Primary Contact name and title\n",
    "13. Primary Contact email\n",
    "14. Product /services\n",
    "\n",
    "**Optional:** \\\n",
    "15. Number of employees \\\n",
    "16. Physical address \\\n",
    "17. Physical city \\\n",
    "18. Year founded \\\n",
    "19. Physical Province \\\n",
    "20. Physical Postal \\\n",
    "21. Sales volume \\\n",
    "22. SIC primary \n",
    "\n",
    "\n",
    "**Missing**:\n",
    "- Primary Contact email\n",
    "- Primary Contact name\n",
    "- Fax\n",
    "\n",
    "- Suggestion: pull email from website."
   ]
  },
  {
   "cell_type": "code",
   "execution_count": 33,
   "id": "0832dda9",
   "metadata": {},
   "outputs": [],
   "source": [
    "import scrap as src\n",
    "\n",
    "from requests import get\n",
    "from requests.exceptions import RequestException\n",
    "from contextlib import closing\n",
    "from bs4 import BeautifulSoup, SoupStrainer\n",
    "from urllib.parse import urlsplit\n",
    "import urllib.request\n",
    "\n",
    "import pandas as pd\n",
    "import numpy as np\n",
    "\n",
    "import os, sys, httplib2, json, fire, re, string, requests\n",
    "from collections import OrderedDict, deque\n",
    "import re, requests, requests.exceptions\n",
    "\n",
    "import warnings\n",
    "warnings.filterwarnings(\"ignore\")\n",
    "\n",
    "\n",
    "pd.set_option(\"display.max.columns\", None)\n",
    "pd.set_option(\"display.max.rows\", None)"
   ]
  },
  {
   "cell_type": "markdown",
   "id": "38e8373d",
   "metadata": {},
   "source": [
    "# Yellow Pages"
   ]
  },
  {
   "cell_type": "code",
   "execution_count": 12,
   "id": "50af8334",
   "metadata": {},
   "outputs": [],
   "source": [
    "titles = src.get_elements(\"https://www.yellowpages.ca/search/si/1/Restaurants/Toronto+ON\", \n",
    "                       search={\"class\": \"listing__name--link listing__link jsListingName\"},\n",
    "                 tag='a'\n",
    "                )"
   ]
  },
  {
   "cell_type": "code",
   "execution_count": null,
   "id": "51b9fb81",
   "metadata": {},
   "outputs": [],
   "source": [
    "activity = src.get_elements(\"https://www.yellowpages.ca/search/si/1/Restaurants/Toronto+ON\", \n",
    "                 tag='article',\n",
    "                 search = {\"class\": \"listing__details__teaser\"}\n",
    "                )"
   ]
  },
  {
   "cell_type": "code",
   "execution_count": 34,
   "id": "d98a5805",
   "metadata": {
    "code_folding": [
     0
    ]
   },
   "outputs": [],
   "source": [
    "def get_link(url):\n",
    "    parser = 'html.parser'  # or 'lxml' (preferred) or 'html5lib', if installed\n",
    "    resp = urllib.request.urlopen(url)\n",
    "    soup = BeautifulSoup(resp, parser, from_encoding=resp.info().get_param('charset'))\n",
    "\n",
    "    links = []\n",
    "    for link in soup.find_all('a', href=True):\n",
    "        if \"/gourl/\" in link['href']:\n",
    "            links.append(link['href'])\n",
    "            \n",
    "    return links\n",
    "\n",
    "website = get_link(\"https://www.yellowpages.ca/search/si/1/Restaurants/Toronto+ON\")"
   ]
  },
  {
   "cell_type": "code",
   "execution_count": 41,
   "id": "42caaf57",
   "metadata": {
    "code_folding": [
     0
    ],
    "scrolled": false
   },
   "outputs": [],
   "source": [
    "def address_in4s(url):\n",
    "    \n",
    "    parser = 'html.parser'  # or 'lxml' (preferred) or 'html5lib', if installed\n",
    "    resp = urllib.request.urlopen(\"https://www.yellowpages.ca/search/si/1/Restaurants/Toronto+ON\")\n",
    "    soup = BeautifulSoup(resp, parser, from_encoding=resp.info().get_param('charset'))\n",
    "    addresses = soup.find_all(\"span\", class_=\"jsMapBubbleAddress\")\n",
    "    \n",
    "    addresses = [addresses[i: i + 4] for i in range(0, len(addresses), 4)]\n",
    "    \n",
    "    return addresses\n",
    "addresses = address_in4s(\"https://www.yellowpages.ca/search/si/1/Restaurants/Toronto+ON\")"
   ]
  },
  {
   "cell_type": "code",
   "execution_count": 50,
   "id": "8311dee7",
   "metadata": {
    "code_folding": [
     0
    ],
    "scrolled": false
   },
   "outputs": [],
   "source": [
    "def get_phone(url):\n",
    "    source_code = requests.get(url)\n",
    "    plain_text = source_code.content\n",
    "    soup = BeautifulSoup(plain_text, \"lxml\")\n",
    "    links = soup.findAll('a', {'class': 'mlr__item__cta jsMlrMenu'})\n",
    "    \n",
    "    phones = []\n",
    "    for link in links:\n",
    "        title = link.get('data-phone')\n",
    "        phones.append(title)\n",
    "    \n",
    "    return phones\n",
    "\n",
    "phones = get_phone(\"https://www.yellowpages.ca/search/si/1/Restaurants/Toronto+ON\")"
   ]
  },
  {
   "cell_type": "code",
   "execution_count": null,
   "id": "4622a132",
   "metadata": {
    "scrolled": true
   },
   "outputs": [],
   "source": [
    "services = "
   ]
  },
  {
   "cell_type": "code",
   "execution_count": null,
   "id": "ee1ca4ec",
   "metadata": {},
   "outputs": [],
   "source": []
  },
  {
   "cell_type": "code",
   "execution_count": 56,
   "id": "4a994d69",
   "metadata": {
    "scrolled": true
   },
   "outputs": [],
   "source": [
    "# src.get_elements(\"https://www.yellowpages.ca/search/si/1/Restaurants/Toronto+ON\", \n",
    "#                  tag='div',\n",
    "#                  search = {\"class\": \"listing__content__wrap--flexed jsGoToMp\"}\n",
    "#                 )"
   ]
  },
  {
   "cell_type": "code",
   "execution_count": null,
   "id": "cc3af339",
   "metadata": {},
   "outputs": [],
   "source": []
  },
  {
   "cell_type": "code",
   "execution_count": null,
   "id": "52026182",
   "metadata": {},
   "outputs": [],
   "source": []
  },
  {
   "cell_type": "markdown",
   "id": "819f1158",
   "metadata": {},
   "source": [
    "# email, fax, contact person"
   ]
  },
  {
   "cell_type": "code",
   "execution_count": null,
   "id": "b7d142a4",
   "metadata": {},
   "outputs": [],
   "source": []
  },
  {
   "cell_type": "code",
   "execution_count": null,
   "id": "e0369857",
   "metadata": {},
   "outputs": [],
   "source": []
  },
  {
   "cell_type": "code",
   "execution_count": null,
   "id": "b61de842",
   "metadata": {},
   "outputs": [],
   "source": []
  }
 ],
 "metadata": {
  "kernelspec": {
   "display_name": "Python 3",
   "language": "python",
   "name": "python3"
  },
  "language_info": {
   "codemirror_mode": {
    "name": "ipython",
    "version": 3
   },
   "file_extension": ".py",
   "mimetype": "text/x-python",
   "name": "python",
   "nbconvert_exporter": "python",
   "pygments_lexer": "ipython3",
   "version": "3.8.8"
  },
  "toc": {
   "base_numbering": 1,
   "nav_menu": {},
   "number_sections": true,
   "sideBar": true,
   "skip_h1_title": false,
   "title_cell": "Table of Contents",
   "title_sidebar": "Contents",
   "toc_cell": false,
   "toc_position": {},
   "toc_section_display": true,
   "toc_window_display": true
  }
 },
 "nbformat": 4,
 "nbformat_minor": 5
}
