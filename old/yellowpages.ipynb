{
 "cells": [
  {
   "cell_type": "markdown",
   "metadata": {},
   "source": [
    "# Yellow pages "
   ]
  },
  {
   "cell_type": "markdown",
   "metadata": {
    "heading_collapsed": true
   },
   "source": [
    "## Import libraries"
   ]
  },
  {
   "cell_type": "code",
   "execution_count": 1,
   "metadata": {
    "hidden": true
   },
   "outputs": [],
   "source": [
    "import requests\n",
    "from lxml import html\n",
    "import unicodecsv as csv\n",
    "import argparse\n",
    "import datetime\n",
    "import pandas as pd\n",
    "from collections import OrderedDict, deque\n",
    "import re"
   ]
  },
  {
   "cell_type": "markdown",
   "metadata": {
    "heading_collapsed": true
   },
   "source": [
    "## Define parameters function\n",
    "\n",
    "- Function to set parameters for search on yellow pages. Set parameter to True to include in search. Must haveat least one true for each parameter"
   ]
  },
  {
   "cell_type": "code",
   "execution_count": 2,
   "metadata": {
    "hidden": true
   },
   "outputs": [],
   "source": [
    "\n",
    "def parameters():\n",
    "\tkeyword_dict = {\n",
    "\t\t'Dentists': True\n",
    "\t}\n",
    "\n",
    "\tcity_province_dict = {\n",
    "\t\t'toronto+ON': True\n",
    "\t}\n",
    "\n",
    "\tpagination_list=[*range(1,5)]\n",
    "\t\n",
    "\tif sum(keyword_dict.values()) == 0 or sum(city_province_dict.values()) == 0:\n",
    "\t\tsys.exit(\"Ensure you have specified at least one keyword and city, province\")\n",
    "\telse:\n",
    "\t\treturn keyword_dict, city_province_dict, pagination_list"
   ]
  },
  {
   "cell_type": "markdown",
   "metadata": {},
   "source": [
    "## Define crawl function\n",
    "\n",
    "Function to process yellowpage listing page \n",
    "- param keyword: search query\n",
    "- param place_city : place city name\n",
    "- param place_province: place province name"
   ]
  },
  {
   "cell_type": "code",
   "execution_count": 3,
   "metadata": {},
   "outputs": [
    {
     "name": "stdout",
     "output_type": "stream",
     "text": [
      "retrieving  https://www.yellowpages.ca/search/si/1/Restaurants/Toronto+ON\n",
      "Failed to process page\n",
      "Failed to process page\n"
     ]
    }
   ],
   "source": [
    "pagination='3'\n",
    "keyword='Dentists'\n",
    "place_city_province='toronto+ON'\n",
    "# url = \"https://www.yellowpages.ca/search/si/3/{0}/{1}\".format(keyword, place_city_province )\n",
    "url = \"https://www.yellowpages.ca/search/si/1/Restaurants/Toronto+ON\"\n",
    "\t# /pagenumber/keyword/placecity+placeprovince\n",
    "\n",
    "print(\"retrieving \",url)\n",
    "\n",
    "headers = {'Accept':'text/html,application/xhtml+xml,application/xml;q=0.9,image/webp,image/apng,*/*;q=0.8',\n",
    "\t\t\t'Accept-Encoding':'gzip, deflate, br',\n",
    "\t\t\t'Accept-Language':'en-GB,en;q=0.9,en-US;q=0.8,ml;q=0.7',\n",
    "\t\t\t'Cache-Control':'max-age=0',\n",
    "\t\t\t'Connection':'keep-alive',\n",
    "\t\t\t'Host':'www.yellowpages.ca',\n",
    "\t\t\t'Upgrade-Insecure-Requests':'1',\n",
    "\t\t\t'User-Agent':'Mozilla/5.0 (X11; Linux x86_64) AppleWebKit/537.36 (KHTML, like Gecko) Chrome/64.0.3282.140 Safari/537.36'\n",
    "\t\t}\n",
    "\n",
    "# Adding retries\n",
    "for retry in range(2):\n",
    "\ttry:\n",
    "\t\tresponse = requests.get(url,verify=False, headers = headers )\n",
    "\n",
    "\t\tif response.status_code==200:\n",
    "\t\t\tparser = html.fromstring(response.text)\n",
    "\n",
    "\t\t\t#making links absolute\n",
    "\t\t\tbase_url = \"https://www.yellowpages.ca\"\n",
    "\t\t\tparser.make_links_absolute(base_url)\n",
    "\n",
    "\t\t\tXPATH_LISTINGS = \"//div[contains(@class, 'listing listing--bottomcta placement')]\" #listings\n",
    "\t\t\tlistings = parser.xpath(XPATH_LISTINGS)\n",
    "\t\t\tscraped_results = []\n",
    "\n",
    "\t\t\tfor results in listings:\n",
    "\n",
    "\t\t\t\tXPATH_BUSINESS_NAME = \".//a[contains(@class, 'listing__name--link')]//text()\"\n",
    "\t\t\t\t# XPATH_BUSINESS_PAGE = \".//a[contains(@class, 'listing__name--link')]//@href\"\n",
    "\t\t\t\tXPATH_STREET = \".//div[contains(@class, 'listing__address')]//span[@itemprop='address']//span[@itemprop='streetAddress']//text()\"\n",
    "\t\t\t\tXPATH_LOCALITY = \".//div[contains(@class, 'listing__address')]//span[@itemprop='address']//span[@itemprop='addressLocality']//text()\"\n",
    "\t\t\t\tXPATH_REGION = \".//div[contains(@class, 'listing__address')]//span[@itemprop='address']//span[@itemprop='addressRegion']//text()\"\n",
    "\t\t\t\tXPATH_ZIP_CODE = \".//div[contains(@class, 'listing__address')]//span[@itemprop='address']//span[@itemprop='postalCode']//text()\"\n",
    "\t\t\t\tXPATH_WEBSITE = \".//div[contains(@class, 'listing__mlr__root')]//ul//li[3]//a//@href\"\n",
    "\t\t\t\t\n",
    "\t\t\t\tXPATH_PHONE= \".//div[contains(@class, 'listing__mlr__root')]//ul//li[1]//a//@data-phone\"\n",
    "\t\t\t\tXPATH_DESCRIPTION = \".//article[contains(@class, 'listing__details__teaser')]//text()\"\n",
    "\t\t\t\tXPATH_PRODUCTS = \".//div[contains(@class, 'listing__captext')]//text()\"\n",
    "\n",
    "\n",
    "\t\t\t\traw_business_name = results.xpath(XPATH_BUSINESS_NAME)\n",
    "\t\t\t\t# raw_business_page = results.xpath(XPATH_BUSINESS_PAGE)\n",
    "\t\t\t\traw_website = results.xpath(XPATH_WEBSITE)\n",
    "\t\t\t\traw_street = results.xpath(XPATH_STREET)\n",
    "\t\t\t\traw_locality = results.xpath(XPATH_LOCALITY)\n",
    "\t\t\t\traw_region = results.xpath(XPATH_REGION)\n",
    "\t\t\t\traw_zip_code = results.xpath(XPATH_ZIP_CODE)\n",
    "\n",
    "\t\t\t\traw_phone=results.xpath(XPATH_PHONE)\n",
    "\t\t\t\traw_products=results.xpath(XPATH_PRODUCTS)\n",
    "\t\t\t\traw_description=results.xpath(XPATH_DESCRIPTION)\n",
    "\t\t\t\t\n",
    "\t\t\t\tbusiness_name = ''.join(raw_business_name).strip() if raw_business_name else None\n",
    "\t\t\t\t# business_page = ''.join(raw_business_page).strip() if raw_business_page else None\n",
    "\t\t\t\tstreet = ''.join(raw_street).strip() if raw_street else None\n",
    "\t\t\t\twebsite = ''.join(raw_website).strip() if raw_website else None\n",
    "\t\t\t\tlocality = ''.join(raw_locality).replace(',\\xa0','').strip() if raw_locality else None\n",
    "\t\t\t\tregion = ''.join(raw_region).strip() if raw_region else None\n",
    "\t\t\t\tzipcode = ''.join(raw_zip_code).strip() if raw_zip_code else None\n",
    "\n",
    "\t\t\t\tphone= ''.join(raw_phone).strip() if raw_phone else None\n",
    "\t\t\t\tproduct=''.join(raw_products).strip() if raw_products else None\n",
    "\t\t\t\tdescription=''.join(raw_description).strip() if raw_description else None\n",
    "\n",
    "\t\t\t\tbusiness_details = {\n",
    "\t\t\t\t\t\t\t\t\t'business_name':business_name,\n",
    "\t\t\t\t\t\t\t\t\t# 'business_page':business_page,\n",
    "\t\t\t\t\t\t\t\t\t'street': street,\n",
    "\t\t\t\t\t\t\t\t\t'website':website,\n",
    "\t\t\t\t\t\t\t\t\t'street':street,\n",
    "\t\t\t\t\t\t\t\t\t'city':locality,\n",
    "\t\t\t\t\t\t\t\t\t'region':region,\n",
    "\t\t\t\t\t\t\t\t\t'zipcode':zipcode,\n",
    "\t\t\t\t\t\t\t\t\t'industry': keyword,\n",
    "\t\t\t\t\t\t\t\t\t'phone': phone,\n",
    "\t\t\t\t\t\t\t\t\t'product':product,\n",
    "\t\t\t\t\t\t\t\t\t'description':description,\n",
    "\t\t\t\t\t\t\t\t\t# 'updated_at': datetime.datetime.now()\n",
    "\t\t\t\t}\n",
    "\t\t\t\tscraped_results.append(business_details)\n",
    "\n",
    "\t\t\n",
    "\n",
    "\t\telif response.status_code==404:\n",
    "\t\t\tprint(\"Could not find a location matching\")\n",
    "\t\t\t#no need to retry for non existing page\n",
    "\t\t\tbreak\n",
    "\t\telse:\n",
    "\t\t\tprint(\"Failed to process page\")\n",
    "\t\t\n",
    "\texcept:\n",
    "\t\tprint(\"Failed to process page\")\n"
   ]
  },
  {
   "cell_type": "code",
   "execution_count": 4,
   "metadata": {},
   "outputs": [
    {
     "ename": "NameError",
     "evalue": "name 'scraped_results' is not defined",
     "output_type": "error",
     "traceback": [
      "\u001b[0;31m---------------------------------------------------------------------------\u001b[0m",
      "\u001b[0;31mNameError\u001b[0m                                 Traceback (most recent call last)",
      "Input \u001b[0;32mIn [4]\u001b[0m, in \u001b[0;36m<cell line: 1>\u001b[0;34m()\u001b[0m\n\u001b[0;32m----> 1\u001b[0m \u001b[43mscraped_results\u001b[49m\n",
      "\u001b[0;31mNameError\u001b[0m: name 'scraped_results' is not defined"
     ]
    }
   ],
   "source": [
    "scraped_results"
   ]
  },
  {
   "cell_type": "code",
   "execution_count": null,
   "metadata": {},
   "outputs": [],
   "source": []
  },
  {
   "cell_type": "code",
   "execution_count": null,
   "metadata": {},
   "outputs": [],
   "source": []
  },
  {
   "cell_type": "code",
   "execution_count": null,
   "metadata": {},
   "outputs": [],
   "source": []
  },
  {
   "cell_type": "code",
   "execution_count": null,
   "metadata": {},
   "outputs": [],
   "source": []
  },
  {
   "cell_type": "code",
   "execution_count": null,
   "metadata": {},
   "outputs": [],
   "source": []
  },
  {
   "cell_type": "code",
   "execution_count": null,
   "metadata": {},
   "outputs": [],
   "source": []
  },
  {
   "cell_type": "code",
   "execution_count": null,
   "metadata": {},
   "outputs": [],
   "source": []
  },
  {
   "cell_type": "code",
   "execution_count": 5,
   "metadata": {
    "code_folding": [
     1
    ]
   },
   "outputs": [],
   "source": [
    "\n",
    "def parse_listing(keyword, place_city_province, pagination=3):\n",
    "    \t\n",
    "\turl = \"https://www.yellowpages.ca/search/si/{0}/{1}/{2}\".format(pagination,keyword, place_city_province )\n",
    "\t# url = \"https://www.yellowpages.ca/search/si/{pagination}/{keyword}/{place_city_province}\"\n",
    "\t# /pagenumber/keyword/placecity+placeprovince\n",
    "\n",
    "\tprint(\"retrieving \",url)\n",
    "\n",
    "\theaders = {'Accept':'text/html,application/xhtml+xml,application/xml;q=0.9,image/webp,image/apng,*/*;q=0.8',\n",
    "\t\t\t\t'Accept-Encoding':'gzip, deflate, br',\n",
    "\t\t\t\t'Accept-Language':'en-GB,en;q=0.9,en-US;q=0.8,ml;q=0.7',\n",
    "\t\t\t\t'Cache-Control':'max-age=0',\n",
    "\t\t\t\t'Connection':'keep-alive',\n",
    "\t\t\t\t'Host':'www.yellowpages.ca',\n",
    "\t\t\t\t'Upgrade-Insecure-Requests':'1',\n",
    "\t\t\t\t'User-Agent':'Mozilla/5.0 (X11; Linux x86_64) AppleWebKit/537.36 (KHTML, like Gecko) Chrome/64.0.3282.140 Safari/537.36'\n",
    "\t\t\t}\n",
    "\n",
    "\t# Adding retries\n",
    "\tfor retry in range(10):\n",
    "\t\ttry:\n",
    "\t\t\tresponse = requests.get(url,verify=False, headers = headers )\n",
    "\n",
    "\t\t\tif response.status_code==200:\n",
    "\t\t\t\tparser = html.fromstring(response.text)\n",
    "\n",
    "\t\t\t\t#making links absolute\n",
    "\t\t\t\tbase_url = \"https://www.yellowpages.ca\"\n",
    "\t\t\t\tparser.make_links_absolute(base_url)\n",
    "\n",
    "\t\t\t\tXPATH_LISTINGS = \"//div[contains(@class, 'listing listing--bottomcta placement')]\" #listings\n",
    "\t\t\t\tlistings = parser.xpath(XPATH_LISTINGS)\n",
    "\t\t\t\tscraped_results = []\n",
    "\n",
    "\t\t\t\tfor results in listings:\n",
    "\n",
    "\t\t\t\t\tXPATH_BUSINESS_NAME = \".//a[contains(@class, 'listing__name--link')]//text()\"\n",
    "\t\t\t\t\t# XPATH_BUSINESS_PAGE = \".//a[contains(@class, 'listing__name--link')]//@href\"\n",
    "\t\t\t\t\tXPATH_STREET = \".//div[contains(@class, 'listing__address')]//span[@itemprop='address']//span[@itemprop='streetAddress']//text()\"\n",
    "\t\t\t\t\tXPATH_LOCALITY = \".//div[contains(@class, 'listing__address')]//span[@itemprop='address']//span[@itemprop='addressLocality']//text()\"\n",
    "\t\t\t\t\tXPATH_REGION = \".//div[contains(@class, 'listing__address')]//span[@itemprop='address']//span[@itemprop='addressRegion']//text()\"\n",
    "\t\t\t\t\tXPATH_ZIP_CODE = \".//div[contains(@class, 'listing__address')]//span[@itemprop='address']//span[@itemprop='postalCode']//text()\"\n",
    "\t\t\t\t\tXPATH_WEBSITE = \".//div[contains(@class, 'listing__mlr__root')]//ul//li[3]//a//@href\"\n",
    "\t\t\t\t\t\n",
    "\t\t\t\t\tXPATH_PHONE= \".//div[contains(@class, 'listing__mlr__root')]//ul//li[1]//a//@data-phone\"\n",
    "\t\t\t\t\tXPATH_DESCRIPTION = \".//article[contains(@class, 'listing__details__teaser')]//text()\"\n",
    "\t\t\t\t\tXPATH_PRODUCTS = \".//div[contains(@class, 'listing__captext')]//text()\"\n",
    "\n",
    "\n",
    "\t\t\t\t\traw_business_name = results.xpath(XPATH_BUSINESS_NAME)\n",
    "\t\t\t\t\t# raw_business_page = results.xpath(XPATH_BUSINESS_PAGE)\n",
    "\t\t\t\t\traw_website = results.xpath(XPATH_WEBSITE)\n",
    "\t\t\t\t\traw_street = results.xpath(XPATH_STREET)\n",
    "\t\t\t\t\traw_locality = results.xpath(XPATH_LOCALITY)\n",
    "\t\t\t\t\traw_region = results.xpath(XPATH_REGION)\n",
    "\t\t\t\t\traw_zip_code = results.xpath(XPATH_ZIP_CODE)\n",
    "\n",
    "\t\t\t\t\traw_phone=results.xpath(XPATH_PHONE)\n",
    "\t\t\t\t\traw_products=results.xpath(XPATH_PRODUCTS)\n",
    "\t\t\t\t\traw_description=results.xpath(XPATH_DESCRIPTION)\n",
    "\t\t\t\t\t\n",
    "\t\t\t\t\tbusiness_name = ''.join(raw_business_name).strip() if raw_business_name else None\n",
    "\t\t\t\t\t# business_page = ''.join(raw_business_page).strip() if raw_business_page else None\n",
    "\t\t\t\t\tstreet = ''.join(raw_street).strip() if raw_street else None\n",
    "\t\t\t\t\twebsite = ''.join(raw_website).strip() if raw_website else None\n",
    "\t\t\t\t\tlocality = ''.join(raw_locality).replace(',\\xa0','').strip() if raw_locality else None\n",
    "\t\t\t\t\tregion = ''.join(raw_region).strip() if raw_region else None\n",
    "\t\t\t\t\tzipcode = ''.join(raw_zip_code).strip() if raw_zip_code else None\n",
    "\n",
    "\t\t\t\t\tphone= ''.join(raw_phone).strip() if raw_phone else None\n",
    "\t\t\t\t\tproduct=''.join(raw_products).strip() if raw_products else None\n",
    "\t\t\t\t\tdescription=''.join(raw_description).strip() if raw_description else None\n",
    "\n",
    "\t\t\t\t\tbusiness_details = {\n",
    "\t\t\t\t\t\t\t\t\t\t'business_name':business_name,\n",
    "\t\t\t\t\t\t\t\t\t\t# 'business_page':business_page,\n",
    "\t\t\t\t\t\t\t\t\t\t'street': street,\n",
    "\t\t\t\t\t\t\t\t\t\t'website':website,\n",
    "\t\t\t\t\t\t\t\t\t\t'street':street,\n",
    "\t\t\t\t\t\t\t\t\t\t'city':locality,\n",
    "\t\t\t\t\t\t\t\t\t\t'region':region,\n",
    "\t\t\t\t\t\t\t\t\t\t'zipcode':zipcode,\n",
    "\t\t\t\t\t\t\t\t\t\t'industry': keyword,\n",
    "\t\t\t\t\t\t\t\t\t\t'phone': phone,\n",
    "\t\t\t\t\t\t\t\t\t\t'product':product,\n",
    "\t\t\t\t\t\t\t\t\t\t'description':description,\n",
    "\t\t\t\t\t\t\t\t\t\t# 'updated_at': datetime.datetime.now()\n",
    "\t\t\t\t\t}\n",
    "\t\t\t\t\tscraped_results.append(business_details)\n",
    "\n",
    "\t\t\t\treturn scraped_results\n",
    "\n",
    "\t\t\telif response.status_code==404:\n",
    "\t\t\t\tprint(\"Could not find a location matching\")\n",
    "\t\t\t\t#no need to retry for non existing page\n",
    "\t\t\t\tbreak\n",
    "\t\t\telse:\n",
    "\t\t\t\tprint(\"Failed to process page\")\n",
    "\t\t\t\treturn []\n",
    "\t\t\t\t\n",
    "\t\texcept:\n",
    "\t\t\tprint(\"Failed to process page\")\n",
    "\t\t\treturn []"
   ]
  },
  {
   "cell_type": "code",
   "execution_count": 6,
   "metadata": {},
   "outputs": [
    {
     "name": "stdout",
     "output_type": "stream",
     "text": [
      "1\n",
      "2\n",
      "3\n"
     ]
    }
   ],
   "source": [
    "pagination_list=[*range(1,5)]\n",
    "for pagination in range(1,len(pagination_list)):\n",
    "    print(pagination)"
   ]
  },
  {
   "cell_type": "code",
   "execution_count": 7,
   "metadata": {
    "scrolled": true
   },
   "outputs": [
    {
     "name": "stdout",
     "output_type": "stream",
     "text": [
      "1\n",
      "retrieving  https://www.yellowpages.ca/search/si/1/Dentists/toronto+ON\n"
     ]
    },
    {
     "name": "stderr",
     "output_type": "stream",
     "text": [
      "/home/ada/anaconda3/envs/uvo/lib/python3.9/site-packages/urllib3/connectionpool.py:1043: InsecureRequestWarning: Unverified HTTPS request is being made to host 'www.yellowpages.ca'. Adding certificate verification is strongly advised. See: https://urllib3.readthedocs.io/en/1.26.x/advanced-usage.html#ssl-warnings\n",
      "  warnings.warn(\n",
      "/home/ada/anaconda3/envs/uvo/lib/python3.9/site-packages/urllib3/connectionpool.py:1043: InsecureRequestWarning: Unverified HTTPS request is being made to host 'www.yellowpages.ca'. Adding certificate verification is strongly advised. See: https://urllib3.readthedocs.io/en/1.26.x/advanced-usage.html#ssl-warnings\n",
      "  warnings.warn(\n"
     ]
    },
    {
     "name": "stdout",
     "output_type": "stream",
     "text": [
      "2\n",
      "retrieving  https://www.yellowpages.ca/search/si/2/Dentists/toronto+ON\n"
     ]
    },
    {
     "name": "stderr",
     "output_type": "stream",
     "text": [
      "/home/ada/anaconda3/envs/uvo/lib/python3.9/site-packages/urllib3/connectionpool.py:1043: InsecureRequestWarning: Unverified HTTPS request is being made to host 'www.yellowpages.ca'. Adding certificate verification is strongly advised. See: https://urllib3.readthedocs.io/en/1.26.x/advanced-usage.html#ssl-warnings\n",
      "  warnings.warn(\n",
      "/home/ada/anaconda3/envs/uvo/lib/python3.9/site-packages/urllib3/connectionpool.py:1043: InsecureRequestWarning: Unverified HTTPS request is being made to host 'www.yellowpages.ca'. Adding certificate verification is strongly advised. See: https://urllib3.readthedocs.io/en/1.26.x/advanced-usage.html#ssl-warnings\n",
      "  warnings.warn(\n"
     ]
    },
    {
     "name": "stdout",
     "output_type": "stream",
     "text": [
      "3\n",
      "retrieving  https://www.yellowpages.ca/search/si/3/Dentists/toronto+ON\n"
     ]
    },
    {
     "name": "stderr",
     "output_type": "stream",
     "text": [
      "/home/ada/anaconda3/envs/uvo/lib/python3.9/site-packages/urllib3/connectionpool.py:1043: InsecureRequestWarning: Unverified HTTPS request is being made to host 'www.yellowpages.ca'. Adding certificate verification is strongly advised. See: https://urllib3.readthedocs.io/en/1.26.x/advanced-usage.html#ssl-warnings\n",
      "  warnings.warn(\n",
      "/home/ada/anaconda3/envs/uvo/lib/python3.9/site-packages/urllib3/connectionpool.py:1043: InsecureRequestWarning: Unverified HTTPS request is being made to host 'www.yellowpages.ca'. Adding certificate verification is strongly advised. See: https://urllib3.readthedocs.io/en/1.26.x/advanced-usage.html#ssl-warnings\n",
      "  warnings.warn(\n"
     ]
    }
   ],
   "source": [
    "pagination_list=[*range(1,5)]\n",
    "for pagination in range(1,len(pagination_list)):\n",
    "    print(pagination)\n",
    "    scraped_data1=parse_listing('Dentists','toronto+ON',pagination)\n",
    "   "
   ]
  },
  {
   "cell_type": "code",
   "execution_count": 8,
   "metadata": {},
   "outputs": [
    {
     "name": "stdout",
     "output_type": "stream",
     "text": [
      "retrieving  https://www.yellowpages.ca/search/si/1/Dentists/toronto+ON\n"
     ]
    },
    {
     "name": "stderr",
     "output_type": "stream",
     "text": [
      "/home/ada/anaconda3/envs/uvo/lib/python3.9/site-packages/urllib3/connectionpool.py:1043: InsecureRequestWarning: Unverified HTTPS request is being made to host 'www.yellowpages.ca'. Adding certificate verification is strongly advised. See: https://urllib3.readthedocs.io/en/1.26.x/advanced-usage.html#ssl-warnings\n",
      "  warnings.warn(\n",
      "/home/ada/anaconda3/envs/uvo/lib/python3.9/site-packages/urllib3/connectionpool.py:1043: InsecureRequestWarning: Unverified HTTPS request is being made to host 'www.yellowpages.ca'. Adding certificate verification is strongly advised. See: https://urllib3.readthedocs.io/en/1.26.x/advanced-usage.html#ssl-warnings\n",
      "  warnings.warn(\n"
     ]
    }
   ],
   "source": [
    "scraped_data1=parse_listing('Dentists','toronto+ON',1)"
   ]
  },
  {
   "cell_type": "code",
   "execution_count": 9,
   "metadata": {},
   "outputs": [
    {
     "name": "stdout",
     "output_type": "stream",
     "text": [
      "retrieving  https://www.yellowpages.ca/search/si/2/Dentists/toronto+ON\n"
     ]
    },
    {
     "name": "stderr",
     "output_type": "stream",
     "text": [
      "/home/ada/anaconda3/envs/uvo/lib/python3.9/site-packages/urllib3/connectionpool.py:1043: InsecureRequestWarning: Unverified HTTPS request is being made to host 'www.yellowpages.ca'. Adding certificate verification is strongly advised. See: https://urllib3.readthedocs.io/en/1.26.x/advanced-usage.html#ssl-warnings\n",
      "  warnings.warn(\n",
      "/home/ada/anaconda3/envs/uvo/lib/python3.9/site-packages/urllib3/connectionpool.py:1043: InsecureRequestWarning: Unverified HTTPS request is being made to host 'www.yellowpages.ca'. Adding certificate verification is strongly advised. See: https://urllib3.readthedocs.io/en/1.26.x/advanced-usage.html#ssl-warnings\n",
      "  warnings.warn(\n"
     ]
    }
   ],
   "source": [
    "scraped_data2=parse_listing('Dentists','toronto+ON',2)"
   ]
  },
  {
   "cell_type": "code",
   "execution_count": 10,
   "metadata": {},
   "outputs": [
    {
     "ename": "TypeError",
     "evalue": "parse_listing() got an unexpected keyword argument 'pagination_list'",
     "output_type": "error",
     "traceback": [
      "\u001b[0;31m---------------------------------------------------------------------------\u001b[0m",
      "\u001b[0;31mTypeError\u001b[0m                                 Traceback (most recent call last)",
      "Input \u001b[0;32mIn [10]\u001b[0m, in \u001b[0;36m<cell line: 2>\u001b[0;34m()\u001b[0m\n\u001b[1;32m      1\u001b[0m pagination_list\u001b[38;5;241m=\u001b[39m[\u001b[38;5;241m*\u001b[39m\u001b[38;5;28mrange\u001b[39m(\u001b[38;5;241m1\u001b[39m,\u001b[38;5;241m5\u001b[39m)]\n\u001b[0;32m----> 2\u001b[0m pd\u001b[38;5;241m.\u001b[39mDataFrame(\u001b[43mparse_listing\u001b[49m\u001b[43m(\u001b[49m\u001b[38;5;124;43m'\u001b[39;49m\u001b[38;5;124;43mDentists\u001b[39;49m\u001b[38;5;124;43m'\u001b[39;49m\u001b[43m,\u001b[49m\u001b[38;5;124;43m'\u001b[39;49m\u001b[38;5;124;43mtoronto+ON\u001b[39;49m\u001b[38;5;124;43m'\u001b[39;49m\u001b[43m,\u001b[49m\u001b[43mpagination_list\u001b[49m\u001b[38;5;241;43m=\u001b[39;49m\u001b[43mpagination_list\u001b[49m\u001b[43m)\u001b[49m)\u001b[38;5;241m.\u001b[39mshape\n",
      "\u001b[0;31mTypeError\u001b[0m: parse_listing() got an unexpected keyword argument 'pagination_list'"
     ]
    }
   ],
   "source": [
    "pagination_list=[*range(1,5)]\n",
    "pd.DataFrame(parse_listing('Dentists','toronto+ON',pagination_list=pagination_list)).shape"
   ]
  },
  {
   "cell_type": "code",
   "execution_count": null,
   "metadata": {},
   "outputs": [],
   "source": [
    "data.shape"
   ]
  },
  {
   "cell_type": "code",
   "execution_count": null,
   "metadata": {},
   "outputs": [],
   "source": [
    "pd.DataFrame(scraped_data2).head()"
   ]
  },
  {
   "cell_type": "code",
   "execution_count": null,
   "metadata": {},
   "outputs": [],
   "source": [
    "pagination_list=[*range(1,5)]\n",
    "data=[]\n",
    "for i in range(len(pagination_list)):\n",
    "    scraped_data=parse_listing('Dentists','toronto+ON',pagination_list[i])\n",
    "    data.append(scraped_data)\n",
    "data"
   ]
  },
  {
   "cell_type": "code",
   "execution_count": null,
   "metadata": {},
   "outputs": [],
   "source": [
    "data[2]"
   ]
  },
  {
   "cell_type": "markdown",
   "metadata": {},
   "source": [
    "## Crawl pages"
   ]
  },
  {
   "cell_type": "code",
   "execution_count": null,
   "metadata": {},
   "outputs": [],
   "source": [
    "keyword_dict, place_city_province_dict,pagination_list= parameters()\n",
    "\n",
    "keyword_list = [key for key, value in keyword_dict.items() if value]\n",
    "place_city_province_list = [key for key, value in place_city_province_dict.items() if value]\n",
    "# pagination_list=[key for key, value in pagination_dict.items() if value]\n",
    "pagination_l=pagination_list\n",
    "\n",
    "data=[]\n",
    "for pagination in pagination_l:\n",
    "    for place_city_province in place_city_province_list:\n",
    "        for keyword in keyword_list:\n",
    "            \n",
    "            # data=[]\n",
    "            # for i in range(1,len(pagination_list)):\n",
    "            scraped_data =  parse_listing(keyword,place_city_province,pagination)\n",
    "            data.append(scraped_data)\n",
    "            # df = pd.DataFrame(data[i])\n",
    "\n",
    "            # df_=pd.concat([df, df])\n",
    "                \n",
    "    "
   ]
  },
  {
   "cell_type": "markdown",
   "metadata": {},
   "source": [
    "## Create dataframe"
   ]
  },
  {
   "cell_type": "code",
   "execution_count": null,
   "metadata": {},
   "outputs": [],
   "source": [
    "def create_dataframe(list):\n",
    "    flattened  = [val for sublist in data for val in sublist]\n",
    "    df=pd.DataFrame(flattened)\n",
    "    sites=df['website'].tolist()\n",
    "    sites=df['website'].tolist()\n",
    "    new = []\n",
    "    for i in sites:\n",
    "        try:\n",
    "            val = i.split(\"%3A%2F%2F\")[-1].split(\"%\")[0]\n",
    "            new.append(val)\n",
    "        except Exception:\n",
    "            val = \"null\"\n",
    "            new.append(val)\n",
    "    df['website']=new\n",
    "    return df\n",
    "    \n",
    "df=create_dataframe(data)\n"
   ]
  },
  {
   "cell_type": "code",
   "execution_count": null,
   "metadata": {},
   "outputs": [],
   "source": []
  },
  {
   "cell_type": "code",
   "execution_count": null,
   "metadata": {},
   "outputs": [],
   "source": [
    "dfs = []\n",
    "for i in data:\n",
    "    dfs.append(pd.DataFrame(i))\n",
    "\n",
    "mega = pd.concat(dfs)\n",
    "mega.shape"
   ]
  },
  {
   "cell_type": "code",
   "execution_count": null,
   "metadata": {},
   "outputs": [],
   "source": [
    "print(mega.duplicated().sum())"
   ]
  },
  {
   "cell_type": "code",
   "execution_count": null,
   "metadata": {},
   "outputs": [],
   "source": [
    "data[0]"
   ]
  },
  {
   "cell_type": "code",
   "execution_count": null,
   "metadata": {},
   "outputs": [],
   "source": [
    "df['website'].to_csv('email.csv')"
   ]
  },
  {
   "cell_type": "markdown",
   "metadata": {},
   "source": [
    "## Get emails"
   ]
  },
  {
   "cell_type": "code",
   "execution_count": null,
   "metadata": {},
   "outputs": [],
   "source": [
    "def get_email(url):\n",
    "    \n",
    "    unprocessed_urls = deque([url])\n",
    "\n",
    "    processed_urls = set()\n",
    "\n",
    "    emails = set()\n",
    "    url = url\n",
    "\n",
    "    print(\"Crawling URL %s\" % url)\n",
    "    response = requests.get(url)\n",
    "\n",
    "    new_emails = set(re.findall(r\"[a-z0-9\\.\\-+_]+@[a-z0-9\\.\\-+_]+\\.[a-z]+\", response.text, re.I))\n",
    "    new_emails = [mail for mail in new_emails if \".png\" not in mail]\n",
    "    new_emails = [mail for mail in new_emails if \".jpg\" not in mail]\n",
    "    \n",
    "    emails.update(new_emails)\n",
    "    \n",
    "    return emails"
   ]
  },
  {
   "cell_type": "code",
   "execution_count": null,
   "metadata": {},
   "outputs": [],
   "source": [
    "mails = []\n",
    "\n",
    "for site in df.website.values:\n",
    "    try:\n",
    "        mail = get_email(\"http://\" + site)\n",
    "        \n",
    "    except Exception:\n",
    "        try:\n",
    "            mail = get_email(\"https://\" + site)\n",
    "        \n",
    "        except Exception:\n",
    "            mail = \"null\"\n",
    "            pass\n",
    "    \n",
    "    mails.append(mail)"
   ]
  },
  {
   "cell_type": "code",
   "execution_count": null,
   "metadata": {},
   "outputs": [],
   "source": [
    "df.shape"
   ]
  }
 ],
 "metadata": {
  "interpreter": {
   "hash": "f08154012ddadd8e950e6e9e035c7a7b32c136e7647e9b7c77e02eb723a8bedb"
  },
  "kernelspec": {
   "display_name": "Python 3 (ipykernel)",
   "language": "python",
   "name": "python3"
  },
  "language_info": {
   "codemirror_mode": {
    "name": "ipython",
    "version": 3
   },
   "file_extension": ".py",
   "mimetype": "text/x-python",
   "name": "python",
   "nbconvert_exporter": "python",
   "pygments_lexer": "ipython3",
   "version": "3.9.7"
  },
  "toc": {
   "base_numbering": 1,
   "nav_menu": {},
   "number_sections": true,
   "sideBar": true,
   "skip_h1_title": false,
   "title_cell": "Table of Contents",
   "title_sidebar": "Contents",
   "toc_cell": false,
   "toc_position": {},
   "toc_section_display": true,
   "toc_window_display": true
  }
 },
 "nbformat": 4,
 "nbformat_minor": 2
}
